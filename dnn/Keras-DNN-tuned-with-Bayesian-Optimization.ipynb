{
 "cells": [
  {
   "cell_type": "markdown",
   "metadata": {},
   "source": [
    "# Keras deep neural network tuned with Bayesian optmization\n",
    "\n",
    "This notebook aims to demonstrate on training and tuning deep neural networks using Bayesian optmization. The example problem used in the notebook is a binary classification problem. We use Keras (with Tensorflow backend) as a library to develop neural network models and GPyOpt for Bayesian optmization library. In particular, the notebook performs the following.\n",
    "* Create a sample binary-classification dataset that is imbalanced (ratio = 1:9)\n",
    "* Split the dataset into training, test, and validation set\n",
    "* Execute oversampling on the training set\n",
    "* Develop example a parameterized deep learning model based on Keras Sequential model\n",
    "* Focus on 5 parameters: learning rate, drop out rate, number of layers, number of hidden units, number of epoch\n"
   ]
  },
  {
   "cell_type": "code",
   "execution_count": null,
   "metadata": {},
   "outputs": [],
   "source": [
    "#!/usr/bin/env python\n",
    "from __future__ import absolute_import\n",
    "from __future__ import division\n",
    "from __future__ import print_function\n",
    "import pandas as pd\n",
    "import matplotlib.pyplot as plt\n",
    "import numpy as np\n",
    "import sklearn\n",
    "import tensorflow as tf\n",
    "%matplotlib inline  \n",
    "import keras\n",
    "\n",
    "USE_RESAMPLING = True"
   ]
  },
  {
   "cell_type": "code",
   "execution_count": 46,
   "metadata": {},
   "outputs": [],
   "source": [
    "from sklearn.datasets import make_classification\n",
    "x_raw, y_raw = make_classification( n_samples=50000,   n_features=70,\n",
    "                                    n_informative=10, n_redundant=60,\n",
    "                                    random_state=42, weights={0:1.8, 1:1})"
   ]
  },
  {
   "cell_type": "code",
   "execution_count": 47,
   "metadata": {},
   "outputs": [
    {
     "data": {
      "text/plain": [
       "array([44789,  5211])"
      ]
     },
     "execution_count": 47,
     "metadata": {},
     "output_type": "execute_result"
    }
   ],
   "source": [
    "np.bincount(y_raw)"
   ]
  },
  {
   "cell_type": "code",
   "execution_count": 48,
   "metadata": {},
   "outputs": [],
   "source": [
    "X_pd = pd.DataFrame(x_raw)\n",
    "Y_pd = pd.DataFrame(y_raw)"
   ]
  },
  {
   "cell_type": "code",
   "execution_count": 49,
   "metadata": {},
   "outputs": [],
   "source": [
    "from sklearn.model_selection import train_test_split\n",
    "X_train, X_test, Y_train, Y_test = train_test_split(X_pd, Y_pd, test_size=0.20,\n",
    "                                                    random_state=42)"
   ]
  },
  {
   "cell_type": "code",
   "execution_count": 50,
   "metadata": {},
   "outputs": [],
   "source": [
    "X_test, X_valid, Y_test, Y_valid = train_test_split(X_test, Y_test, test_size=0.50, random_state=42)"
   ]
  },
  {
   "cell_type": "code",
   "execution_count": 51,
   "metadata": {},
   "outputs": [
    {
     "name": "stdout",
     "output_type": "stream",
     "text": [
      "(5000, 70)\n",
      "(5000, 1)\n",
      "(5000, 70)\n",
      "(5000, 1)\n"
     ]
    }
   ],
   "source": [
    "print(X_valid.shape)\n",
    "print(Y_valid.shape)\n",
    "print(X_test.shape)\n",
    "print(Y_test.shape)"
   ]
  },
  {
   "cell_type": "code",
   "execution_count": 52,
   "metadata": {},
   "outputs": [
    {
     "data": {
      "text/plain": [
       "0    4468\n",
       "1     532\n",
       "Name: 0, dtype: int64"
      ]
     },
     "execution_count": 52,
     "metadata": {},
     "output_type": "execute_result"
    }
   ],
   "source": [
    "Y_test.iloc[:, 0].value_counts()"
   ]
  },
  {
   "cell_type": "markdown",
   "metadata": {},
   "source": [
    "# Add oversampling here"
   ]
  },
  {
   "cell_type": "code",
   "execution_count": 53,
   "metadata": {},
   "outputs": [
    {
     "name": "stderr",
     "output_type": "stream",
     "text": [
      "/usr/local/lib/python3.5/dist-packages/sklearn/utils/validation.py:547: DataConversionWarning: A column-vector y was passed when a 1d array was expected. Please change the shape of y to (n_samples, ), for example using ravel().\n",
      "  y = column_or_1d(y, warn=True)\n"
     ]
    }
   ],
   "source": [
    "from imblearn.combine import SMOTEENN\n",
    "from imblearn.over_sampling import SMOTE \n",
    "from imblearn.under_sampling import RandomUnderSampler\n",
    "from imblearn.under_sampling import ClusterCentroids\n",
    "\n",
    "if USE_RESAMPLING:\n",
    "    target_num_samples_major = Y_train[Y_train == 1].shape[0]\n",
    "    sampling_model = SMOTE()\n",
    "\n",
    "    X_resampled_train, Y_resampled_train = sampling_model.fit_sample(X_train, Y_train)\n",
    "    X_train = pd.DataFrame(X_resampled_train, columns=X_pd.columns)\n",
    "    Y_train = pd.DataFrame(Y_resampled_train)"
   ]
  },
  {
   "cell_type": "code",
   "execution_count": 54,
   "metadata": {},
   "outputs": [
    {
     "data": {
      "text/plain": [
       "1    35877\n",
       "0    35877\n",
       "Name: 0, dtype: int64"
      ]
     },
     "execution_count": 54,
     "metadata": {},
     "output_type": "execute_result"
    }
   ],
   "source": [
    "Y_train.iloc[:,0].value_counts()"
   ]
  },
  {
   "cell_type": "code",
   "execution_count": 55,
   "metadata": {},
   "outputs": [
    {
     "data": {
      "text/plain": [
       "0    4468\n",
       "1     532\n",
       "Name: 0, dtype: int64"
      ]
     },
     "execution_count": 55,
     "metadata": {},
     "output_type": "execute_result"
    }
   ],
   "source": [
    "Y_test.iloc[:,0].value_counts()"
   ]
  },
  {
   "cell_type": "code",
   "execution_count": 56,
   "metadata": {},
   "outputs": [
    {
     "data": {
      "text/plain": [
       "array([[ 1.,  0.],\n",
       "       [ 1.,  0.],\n",
       "       [ 1.,  0.],\n",
       "       ..., \n",
       "       [ 0.,  1.],\n",
       "       [ 0.,  1.],\n",
       "       [ 0.,  1.]])"
      ]
     },
     "execution_count": 56,
     "metadata": {},
     "output_type": "execute_result"
    }
   ],
   "source": [
    "from sklearn.preprocessing import OneHotEncoder\n",
    "enc = OneHotEncoder()\n",
    "enc.fit(Y_train.values.reshape(-1, 1))\n",
    "Y_train_encoded = enc.transform(Y_train.values.reshape(-1, 1)).toarray()\n",
    "Y_test_encoded  = enc.transform(Y_test.values.reshape(-1, 1)).toarray()\n",
    "Y_valid_encoded = enc.transform(Y_valid.values.reshape(-1, 1)).toarray()\n",
    "Y_train_encoded"
   ]
  },
  {
   "cell_type": "code",
   "execution_count": 57,
   "metadata": {},
   "outputs": [
    {
     "name": "stdout",
     "output_type": "stream",
     "text": [
      "71754\n",
      "70\n"
     ]
    }
   ],
   "source": [
    "num_samples = X_train.shape[0]\n",
    "print(num_samples)\n",
    "num_features = X_train.shape[1]\n",
    "print(num_features)"
   ]
  },
  {
   "cell_type": "code",
   "execution_count": 58,
   "metadata": {},
   "outputs": [],
   "source": [
    "import keras\n",
    "from keras.models import Sequential\n",
    "from keras.layers import Dense, Dropout, Activation, BatchNormalization\n",
    "from keras.optimizers import SGD, Adam\n",
    "from sklearn.metrics import roc_auc_score"
   ]
  },
  {
   "cell_type": "code",
   "execution_count": 59,
   "metadata": {},
   "outputs": [],
   "source": [
    "batch_size = 32"
   ]
  },
  {
   "cell_type": "markdown",
   "metadata": {},
   "source": [
    "Evaluation function"
   ]
  },
  {
   "cell_type": "code",
   "execution_count": 60,
   "metadata": {},
   "outputs": [],
   "source": [
    "def eval_results(model, X, Y):\n",
    "    predict_probs = model.predict(X, batch_size=batch_size)\n",
    "    Y_prob_score = predict_probs[:,1]\n",
    "    \n",
    "    return roc_auc_score(Y, Y_prob_score)"
   ]
  },
  {
   "cell_type": "markdown",
   "metadata": {},
   "source": [
    "# Wrap the evaluation function entirely inside a function"
   ]
  },
  {
   "cell_type": "code",
   "execution_count": 92,
   "metadata": {},
   "outputs": [],
   "source": [
    "def model_architecture(learning_rate, num_layers, hidden_units, dropout_rate, num_epoch):\n",
    "    model = Sequential()\n",
    "    for _ in range(num_layers):\n",
    "        model.add(Dense(hidden_units, activation='relu', input_dim=num_features))\n",
    "        model.add(Dropout(dropout_rate))\n",
    "        model.add(BatchNormalization(axis=-1, momentum=0.99, \n",
    "                                     epsilon=0.001, center=True, scale=True, \n",
    "                                     beta_initializer='zeros', gamma_initializer='ones'))\n",
    "\n",
    "    # Add head at the end to be a softmax layer (Binary classification)\n",
    "    model.add(Dense(2, activation='softmax'))\n",
    "    adam = Adam(lr=learning_rate)\n",
    "    model.compile(loss='binary_crossentropy',\n",
    "                  optimizer=adam,\n",
    "                  metrics=['accuracy'])\n",
    "    return model"
   ]
  },
  {
   "cell_type": "code",
   "execution_count": 93,
   "metadata": {},
   "outputs": [],
   "source": [
    "bounds   =  [  {'name': 'learning_rate',    'type': 'continuous',  'domain': (1e-4,1e-1) },\n",
    "               {'name': 'dropout_rate',     'type': 'continuous', 'domain':  (0.01, 0.25) },\n",
    "               {'name': 'num_layers',       'type': 'discrete',    'domain': (5,10)},\n",
    "               {'name': 'hidden_units',       'type': 'discrete',    'domain': (5,30)},\n",
    "               {'name': 'num_epoch',         'type': 'discrete',    'domain':  (2,3)}]"
   ]
  },
  {
   "cell_type": "code",
   "execution_count": 94,
   "metadata": {},
   "outputs": [],
   "source": [
    "def get_model_from_paras_row(paras_row, i):\n",
    "    learning_rate = paras_row[0]\n",
    "    dropout_rate  = paras_row[1]\n",
    "    num_layers    = int(paras_row[2])\n",
    "    hidden_units  = int(paras_row[3])\n",
    "    num_epoch     = paras_row[4]\n",
    "    \n",
    "    print(\"\"\" For row %s , learning rate = %.5f, num_layers = %s, hidden_units = %s, dropout_rate = %s, num_epoch = %s    \"\"\"\n",
    "          % (i, learning_rate, num_layers, hidden_units, dropout_rate,  num_epoch)         \n",
    "         )\n",
    "    return model_architecture(learning_rate=learning_rate,\n",
    "                              num_layers=num_layers,\n",
    "                              hidden_units=hidden_units,\n",
    "                              dropout_rate=dropout_rate,\n",
    "                              num_epoch=num_epoch)"
   ]
  },
  {
   "cell_type": "code",
   "execution_count": 95,
   "metadata": {},
   "outputs": [],
   "source": [
    "nfold = 2\n",
    "def fit_dnn(paras2d):\n",
    "    paras2d = np.atleast_2d(paras2d) # one row represents one set of parameters\n",
    "    \n",
    "    print(\" Getting in paras2d of shape = %s\" % str(paras2d.shape))\n",
    "    fs = np.zeros((paras2d.shape[0],1))\n",
    "    for i in range(paras2d.shape[0]):\n",
    "        fs[i] = 0 # accumulator for performance metric per fold\n",
    "        paras_row = paras2d[i]\n",
    "        model = get_model_from_paras_row(paras_row = paras_row, i=i)\n",
    "        \n",
    "        num_epoch = int(paras_row[4])        \n",
    "        for n in range(nfold):\n",
    "            idx = np.array(range(X_train.shape[0]))\n",
    "            idx_valid = np.logical_and(idx>=X_train.shape[0]/nfold*n, idx<X_train.shape[0]/nfold*(n+1))\n",
    "            idx_train = np.logical_not(idx_valid)\n",
    "            model.fit(X_train.values[idx_train,:], Y_train_encoded[idx_train,:], \n",
    "                      epochs=num_epoch, batch_size=batch_size, shuffle=True,\n",
    "                      callbacks = None, verbose=1)\n",
    "            fs[i] += eval_results(model, X_train.values[idx_valid, :], Y_train_encoded[idx_valid, 1])\n",
    "        fs[i] *= 1./nfold\n",
    "        \n",
    "        print(\" For row %s : we get the average cross validation score of %.3f: model paras = %s \" % (i, fs[i], paras_row))\n",
    "    return 1 - fs # We want to maximize fs (which is equivalent to minize 1 - fs\n",
    "    "
   ]
  },
  {
   "cell_type": "code",
   "execution_count": 96,
   "metadata": {},
   "outputs": [],
   "source": [
    "import GPyOpt # Bayesian optimization library"
   ]
  },
  {
   "cell_type": "code",
   "execution_count": 97,
   "metadata": {},
   "outputs": [
    {
     "name": "stdout",
     "output_type": "stream",
     "text": [
      " Getting in paras2d of shape = (1, 5)\n",
      " For row 0 , learning rate = 0.00877, num_layers = 5, hidden_units = 5, dropout_rate = 0.063994714318, num_epoch = 2.0    \n",
      "Epoch 1/2\n",
      "35877/35877 [==============================] - 7s - loss: 0.2243 - acc: 0.9089     \n",
      "Epoch 2/2\n",
      "35877/35877 [==============================] - 4s - loss: 0.1826 - acc: 0.9221     \n",
      "Epoch 1/2\n",
      "35877/35877 [==============================] - 4s - loss: 0.2152 - acc: 0.9196     \n",
      "Epoch 2/2\n",
      "35877/35877 [==============================] - 5s - loss: 0.1615 - acc: 0.9414     \n",
      " For row 0 : we get the average cross validation score of 0.971: model paras = [ 0.00876781  0.06399471  5.          5.          2.        ] \n",
      " Getting in paras2d of shape = (1, 5)\n",
      " For row 0 , learning rate = 0.03813, num_layers = 10, hidden_units = 5, dropout_rate = 0.204671785028, num_epoch = 3.0    \n",
      "Epoch 1/3\n",
      "35877/35877 [==============================] - 9s - loss: 0.3357 - acc: 0.8955     \n",
      "Epoch 2/3\n",
      "35877/35877 [==============================] - 7s - loss: 0.3308 - acc: 0.8969     \n",
      "Epoch 3/3\n",
      "35877/35877 [==============================] - 6s - loss: 0.3232 - acc: 0.8965     \n",
      "Epoch 1/3\n",
      "35877/35877 [==============================] - 8s - loss: 0.3168 - acc: 0.8918     \n",
      "Epoch 2/3\n",
      "35877/35877 [==============================] - 7s - loss: 0.3022 - acc: 0.8971     \n",
      "Epoch 3/3\n",
      "35877/35877 [==============================] - 8s - loss: 0.2909 - acc: 0.8949     \n",
      " For row 0 : we get the average cross validation score of 0.916: model paras = [  0.03812852   0.20467179  10.           5.           3.        ] \n",
      " Getting in paras2d of shape = (1, 5)\n",
      " For row 0 , learning rate = 0.02691, num_layers = 10, hidden_units = 30, dropout_rate = 0.159387198323, num_epoch = 3.0    \n",
      "Epoch 1/3\n",
      "35877/35877 [==============================] - 12s - loss: 0.2334 - acc: 0.9012    \n",
      "Epoch 2/3\n",
      "35877/35877 [==============================] - 8s - loss: 0.1800 - acc: 0.9175     \n",
      "Epoch 3/3\n",
      "35877/35877 [==============================] - 8s - loss: 0.1657 - acc: 0.9231     \n",
      "Epoch 1/3\n",
      "35877/35877 [==============================] - 8s - loss: 0.1919 - acc: 0.9275     \n",
      "Epoch 2/3\n",
      "35877/35877 [==============================] - 8s - loss: 0.1494 - acc: 0.9442     \n",
      "Epoch 3/3\n",
      "35877/35877 [==============================] - 8s - loss: 0.1431 - acc: 0.9486     \n",
      " For row 0 : we get the average cross validation score of 0.975: model paras = [  2.69126347e-02   1.59387198e-01   1.00000000e+01   3.00000000e+01\n",
      "   3.00000000e+00] \n",
      " Getting in paras2d of shape = (1, 5)\n",
      " For row 0 , learning rate = 0.00160, num_layers = 5, hidden_units = 30, dropout_rate = 0.0183572137312, num_epoch = 3.0    \n",
      "Epoch 1/3\n",
      "35877/35877 [==============================] - 7s - loss: 0.1881 - acc: 0.9242     \n",
      "Epoch 2/3\n",
      "35877/35877 [==============================] - 5s - loss: 0.1150 - acc: 0.9515     \n",
      "Epoch 3/3\n",
      "35877/35877 [==============================] - 5s - loss: 0.1032 - acc: 0.9552     \n",
      "Epoch 1/3\n",
      "35877/35877 [==============================] - 5s - loss: 0.1743 - acc: 0.9511     \n",
      "Epoch 2/3\n",
      "35877/35877 [==============================] - 5s - loss: 0.0751 - acc: 0.9789     \n",
      "Epoch 3/3\n",
      "35877/35877 [==============================] - 5s - loss: 0.0685 - acc: 0.9820     \n",
      " For row 0 : we get the average cross validation score of 0.980: model paras = [  1.59671076e-03   1.83572137e-02   5.00000000e+00   3.00000000e+01\n",
      "   3.00000000e+00] \n",
      " Getting in paras2d of shape = (1, 5)\n",
      " For row 0 , learning rate = 0.00969, num_layers = 10, hidden_units = 5, dropout_rate = 0.198426031097, num_epoch = 2.0    \n",
      "Epoch 1/2\n",
      "35877/35877 [==============================] - 9s - loss: 0.3430 - acc: 0.8932     \n",
      "Epoch 2/2\n",
      "35877/35877 [==============================] - 8s - loss: 0.3283 - acc: 0.8969     \n",
      "Epoch 1/2\n",
      "35877/35877 [==============================] - 8s - loss: 0.3289 - acc: 0.8864     \n",
      "Epoch 2/2\n",
      "35877/35877 [==============================] - 10s - loss: 0.3143 - acc: 0.8969    \n",
      " For row 0 : we get the average cross validation score of 0.868: model paras = [  9.68984695e-03   1.98426031e-01   1.00000000e+01   5.00000000e+00\n",
      "   2.00000000e+00] \n",
      "The set cost function is ignored! LBC acquisition does not make sense with cost.\n"
     ]
    }
   ],
   "source": [
    "opt = GPyOpt.methods.BayesianOptimization(f = fit_dnn,          # function to optimize       \n",
    "                                          domain = bounds,          # box-constrains of the problem\n",
    "                                          acquisition_type ='LCB',  # LCB acquisition\n",
    "                                          acquisition_weight = 0.1) # Exploration exploitation"
   ]
  },
  {
   "cell_type": "code",
   "execution_count": 99,
   "metadata": {},
   "outputs": [
    {
     "name": "stdout",
     "output_type": "stream",
     "text": [
      " Getting in paras2d of shape = (1, 5)\n",
      " For row 0 , learning rate = 0.00869, num_layers = 5, hidden_units = 30, dropout_rate = 0.086949033055, num_epoch = 3.0    \n",
      "Epoch 1/3\n",
      "35877/35877 [==============================] - 8s - loss: 0.1735 - acc: 0.9233     \n",
      "Epoch 2/3\n",
      "35877/35877 [==============================] - 5s - loss: 0.1282 - acc: 0.9438     \n",
      "Epoch 3/3\n",
      "35877/35877 [==============================] - 5s - loss: 0.1210 - acc: 0.9495     \n",
      "Epoch 1/3\n",
      "35877/35877 [==============================] - 6s - loss: 0.1409 - acc: 0.9529     \n",
      "Epoch 2/3\n",
      "35877/35877 [==============================] - 6s - loss: 0.1031 - acc: 0.9683     \n",
      "Epoch 3/3\n",
      "35877/35877 [==============================] - 6s - loss: 0.0894 - acc: 0.9751     \n",
      " For row 0 : we get the average cross validation score of 0.978: model paras = [  8.69498378e-03   8.69490331e-02   5.00000000e+00   3.00000000e+01\n",
      "   3.00000000e+00] \n",
      " Getting in paras2d of shape = (1, 5)\n",
      " For row 0 , learning rate = 0.02889, num_layers = 5, hidden_units = 30, dropout_rate = 0.01, num_epoch = 3.0    \n",
      "Epoch 1/3\n",
      "35877/35877 [==============================] - 7s - loss: 0.1590 - acc: 0.9291     \n",
      "Epoch 2/3\n",
      "35877/35877 [==============================] - 6s - loss: 0.1317 - acc: 0.9427     \n",
      "Epoch 3/3\n",
      "35877/35877 [==============================] - 6s - loss: 0.1180 - acc: 0.9496     \n",
      "Epoch 1/3\n",
      "35877/35877 [==============================] - 6s - loss: 0.1217 - acc: 0.9643     \n",
      "Epoch 2/3\n",
      "35877/35877 [==============================] - 5s - loss: 0.0843 - acc: 0.9752     \n",
      "Epoch 3/3\n",
      "35877/35877 [==============================] - 6s - loss: 0.0752 - acc: 0.9786     \n",
      " For row 0 : we get the average cross validation score of 0.979: model paras = [  2.88949648e-02   1.00000000e-02   5.00000000e+00   3.00000000e+01\n",
      "   3.00000000e+00] \n",
      " Getting in paras2d of shape = (1, 5)\n",
      " For row 0 , learning rate = 0.00010, num_layers = 5, hidden_units = 30, dropout_rate = 0.01, num_epoch = 3.0    \n",
      "Epoch 1/3\n",
      "35877/35877 [==============================] - 7s - loss: 0.5593 - acc: 0.7479     \n",
      "Epoch 2/3\n",
      "35877/35877 [==============================] - 5s - loss: 0.3011 - acc: 0.9083     \n",
      "Epoch 3/3\n",
      "35877/35877 [==============================] - 6s - loss: 0.2100 - acc: 0.9268     \n",
      "Epoch 1/3\n",
      "35877/35877 [==============================] - 5s - loss: 1.0454 - acc: 0.4745     \n",
      "Epoch 2/3\n",
      "35877/35877 [==============================] - 5s - loss: 0.4578 - acc: 0.9078     \n",
      "Epoch 3/3\n",
      "35877/35877 [==============================] - 5s - loss: 0.2634 - acc: 0.9512     \n",
      " For row 0 : we get the average cross validation score of 0.960: model paras = [  1.00000000e-04   1.00000000e-02   5.00000000e+00   3.00000000e+01\n",
      "   3.00000000e+00] \n",
      " Getting in paras2d of shape = (1, 5)\n",
      " For row 0 , learning rate = 0.10000, num_layers = 5, hidden_units = 30, dropout_rate = 0.25, num_epoch = 3.0    \n",
      "Epoch 1/3\n",
      "35877/35877 [==============================] - 8s - loss: 0.2583 - acc: 0.8957     \n",
      "Epoch 2/3\n",
      "35877/35877 [==============================] - 5s - loss: 0.2321 - acc: 0.9047     \n",
      "Epoch 3/3\n",
      "35877/35877 [==============================] - 5s - loss: 0.2243 - acc: 0.9037     \n",
      "Epoch 1/3\n",
      "35877/35877 [==============================] - 6s - loss: 1.6533 - acc: 0.8951     \n",
      "Epoch 2/3\n",
      "35877/35877 [==============================] - 5s - loss: 1.6528 - acc: 0.8969     \n",
      "Epoch 3/3\n",
      "35877/35877 [==============================] - 5s - loss: 1.6528 - acc: 0.8969     \n",
      " For row 0 : we get the average cross validation score of 0.685: model paras = [  0.1    0.25   5.    30.     3.  ] \n",
      " Getting in paras2d of shape = (1, 5)\n",
      " For row 0 , learning rate = 0.01821, num_layers = 5, hidden_units = 30, dropout_rate = 0.0468784451517, num_epoch = 3.0    \n",
      "Epoch 1/3\n",
      "35877/35877 [==============================] - 8s - loss: 0.1717 - acc: 0.9237     \n",
      "Epoch 2/3\n",
      "35877/35877 [==============================] - 5s - loss: 0.1330 - acc: 0.9424     \n",
      "Epoch 3/3\n",
      "35877/35877 [==============================] - 6s - loss: 0.1198 - acc: 0.9487     \n",
      "Epoch 1/3\n",
      "35877/35877 [==============================] - 5s - loss: 0.1281 - acc: 0.9630     \n",
      "Epoch 2/3\n",
      "35877/35877 [==============================] - 5s - loss: 0.0893 - acc: 0.9739     \n",
      "Epoch 3/3\n",
      "35877/35877 [==============================] - 5s - loss: 0.0818 - acc: 0.9768     \n",
      " For row 0 : we get the average cross validation score of 0.979: model paras = [  1.82075554e-02   4.68784452e-02   5.00000000e+00   3.00000000e+01\n",
      "   3.00000000e+00] \n",
      " Getting in paras2d of shape = (1, 5)\n",
      " For row 0 , learning rate = 0.00010, num_layers = 5, hidden_units = 30, dropout_rate = 0.0624843738398, num_epoch = 3.0    \n",
      "Epoch 1/3\n",
      "35877/35877 [==============================] - 8s - loss: 0.6016 - acc: 0.7151     \n",
      "Epoch 2/3\n",
      "35877/35877 [==============================] - 5s - loss: 0.3397 - acc: 0.8793     \n",
      "Epoch 3/3\n",
      "35877/35877 [==============================] - 5s - loss: 0.2570 - acc: 0.9064     \n",
      "Epoch 1/3\n",
      "35877/35877 [==============================] - 7s - loss: 1.0543 - acc: 0.4710     \n",
      "Epoch 2/3\n",
      "35877/35877 [==============================] - 7s - loss: 0.4321 - acc: 0.8956     \n",
      "Epoch 3/3\n",
      "35877/35877 [==============================] - 6s - loss: 0.2638 - acc: 0.9358     \n",
      " For row 0 : we get the average cross validation score of 0.952: model paras = [  1.00000000e-04   6.24843738e-02   5.00000000e+00   3.00000000e+01\n",
      "   3.00000000e+00] \n",
      " Getting in paras2d of shape = (1, 5)\n",
      " For row 0 , learning rate = 0.04473, num_layers = 5, hidden_units = 30, dropout_rate = 0.0353736309225, num_epoch = 3.0    \n",
      "Epoch 1/3\n",
      "35877/35877 [==============================] - 9s - loss: 0.1713 - acc: 0.9265     \n",
      "Epoch 2/3\n",
      "35877/35877 [==============================] - 6s - loss: 0.1430 - acc: 0.9375     \n",
      "Epoch 3/3\n",
      "35877/35877 [==============================] - 6s - loss: 0.1359 - acc: 0.9420     \n",
      "Epoch 1/3\n",
      "35877/35877 [==============================] - 6s - loss: 0.1453 - acc: 0.9582     \n",
      "Epoch 2/3\n",
      "35877/35877 [==============================] - 7s - loss: 0.1084 - acc: 0.9668     \n",
      "Epoch 3/3\n",
      "35877/35877 [==============================] - 6s - loss: 0.0997 - acc: 0.9702     \n",
      " For row 0 : we get the average cross validation score of 0.978: model paras = [  0.04472927   0.03537363   5.          30.           3.        ] \n",
      " Getting in paras2d of shape = (1, 5)\n",
      " For row 0 , learning rate = 0.03320, num_layers = 5, hidden_units = 30, dropout_rate = 0.0277778779778, num_epoch = 3.0    \n",
      "Epoch 1/3\n",
      "35877/35877 [==============================] - 10s - loss: 0.1681 - acc: 0.9239    \n",
      "Epoch 2/3\n",
      "35877/35877 [==============================] - 5s - loss: 0.1381 - acc: 0.9383     \n",
      "Epoch 3/3\n",
      "35877/35877 [==============================] - 6s - loss: 0.1327 - acc: 0.9437     \n",
      "Epoch 1/3\n",
      "35877/35877 [==============================] - 6s - loss: 0.1381 - acc: 0.9570     \n",
      "Epoch 2/3\n",
      "35877/35877 [==============================] - 7s - loss: 0.1157 - acc: 0.9630     \n",
      "Epoch 3/3\n",
      "35877/35877 [==============================] - 6s - loss: 0.0907 - acc: 0.9736     \n",
      " For row 0 : we get the average cross validation score of 0.977: model paras = [  3.31966903e-02   2.77778780e-02   5.00000000e+00   3.00000000e+01\n",
      "   3.00000000e+00] \n",
      " Getting in paras2d of shape = (1, 5)\n",
      " For row 0 , learning rate = 0.03149, num_layers = 5, hidden_units = 30, dropout_rate = 0.035320476315, num_epoch = 3.0    \n",
      "Epoch 1/3\n",
      "35877/35877 [==============================] - 8s - loss: 0.1725 - acc: 0.9254     \n",
      "Epoch 2/3\n",
      "35877/35877 [==============================] - 6s - loss: 0.1360 - acc: 0.9393     \n",
      "Epoch 3/3\n",
      "35877/35877 [==============================] - 6s - loss: 0.1292 - acc: 0.9443     \n",
      "Epoch 1/3\n",
      "35877/35877 [==============================] - 5s - loss: 0.1442 - acc: 0.9562     \n",
      "Epoch 2/3\n",
      "35877/35877 [==============================] - 7s - loss: 0.0942 - acc: 0.9725     \n",
      "Epoch 3/3\n",
      "35877/35877 [==============================] - 7s - loss: 0.0831 - acc: 0.9762     \n",
      " For row 0 : we get the average cross validation score of 0.976: model paras = [  0.03148783   0.03532048   5.          30.           3.        ] \n",
      " Getting in paras2d of shape = (1, 5)\n",
      " For row 0 , learning rate = 0.03519, num_layers = 5, hidden_units = 30, dropout_rate = 0.0685678580304, num_epoch = 3.0    \n",
      "Epoch 1/3\n",
      "35877/35877 [==============================] - 10s - loss: 0.1787 - acc: 0.9202    \n",
      "Epoch 2/3\n"
     ]
    },
    {
     "name": "stdout",
     "output_type": "stream",
     "text": [
      "35877/35877 [==============================] - 7s - loss: 0.1465 - acc: 0.9325     \n",
      "Epoch 3/3\n",
      "35877/35877 [==============================] - 6s - loss: 0.1328 - acc: 0.9418     \n",
      "Epoch 1/3\n",
      "35877/35877 [==============================] - 7s - loss: 0.1550 - acc: 0.9498     \n",
      "Epoch 2/3\n",
      "35877/35877 [==============================] - 7s - loss: 0.1284 - acc: 0.9576     \n",
      "Epoch 3/3\n",
      "35877/35877 [==============================] - 7s - loss: 0.1354 - acc: 0.9546     \n",
      " For row 0 : we get the average cross validation score of 0.976: model paras = [  0.03519408   0.06856786   5.          30.           3.        ] \n"
     ]
    },
    {
     "data": {
      "image/png": "[encoded data removed]",
      "text/plain": [
       "<matplotlib.figure.Figure at 0x7fe3471e0f28>"
      ]
     },
     "metadata": {},
     "output_type": "display_data"
    }
   ],
   "source": [
    "opt.run_optimization(max_iter=10)\n",
    "opt.plot_convergence()"
   ]
  },
  {
   "cell_type": "markdown",
   "metadata": {},
   "source": [
    "# Obtained parameters during the search process"
   ]
  },
  {
   "cell_type": "markdown",
   "metadata": {},
   "source": [
    "Best parameter was"
   ]
  },
  {
   "cell_type": "code",
   "execution_count": 98,
   "metadata": {},
   "outputs": [
    {
     "data": {
      "text/plain": [
       "array([  1.59671076e-03,   1.83572137e-02,   5.00000000e+00,\n",
       "         3.00000000e+01,   3.00000000e+00])"
      ]
     },
     "execution_count": 98,
     "metadata": {},
     "output_type": "execute_result"
    }
   ],
   "source": [
    "opt.x_opt"
   ]
  },
  {
   "cell_type": "markdown",
   "metadata": {},
   "source": [
    "Best cost was (1 - AUC)"
   ]
  },
  {
   "cell_type": "code",
   "execution_count": 101,
   "metadata": {},
   "outputs": [
    {
     "data": {
      "text/plain": [
       "array([ 0.02002737])"
      ]
     },
     "execution_count": 101,
     "metadata": {},
     "output_type": "execute_result"
    }
   ],
   "source": [
    "opt.fx_opt"
   ]
  },
  {
   "cell_type": "markdown",
   "metadata": {},
   "source": [
    "# Test the parameters on model"
   ]
  },
  {
   "cell_type": "markdown",
   "metadata": {},
   "source": [
    "Obtained the searched parameter"
   ]
  },
  {
   "cell_type": "code",
   "execution_count": 102,
   "metadata": {},
   "outputs": [
    {
     "name": "stdout",
     "output_type": "stream",
     "text": [
      " For row 0 , learning rate = 0.00160, num_layers = 5, hidden_units = 30, dropout_rate = 0.0183572137312, num_epoch = 3.0    \n"
     ]
    }
   ],
   "source": [
    "model = get_model_from_paras_row(opt.x_opt, 0)"
   ]
  },
  {
   "cell_type": "code",
   "execution_count": 103,
   "metadata": {},
   "outputs": [
    {
     "data": {
      "text/plain": [
       "3"
      ]
     },
     "execution_count": 103,
     "metadata": {},
     "output_type": "execute_result"
    }
   ],
   "source": [
    "num_epoch = int(opt.x_opt[4])\n",
    "num_epoch"
   ]
  },
  {
   "cell_type": "markdown",
   "metadata": {},
   "source": [
    "Trained the model for the whole training dataset"
   ]
  },
  {
   "cell_type": "code",
   "execution_count": 104,
   "metadata": {},
   "outputs": [
    {
     "name": "stdout",
     "output_type": "stream",
     "text": [
      "Epoch 1/3\n",
      "71754/71754 [==============================] - 16s - loss: 0.1835 - acc: 0.9384    \n",
      "Epoch 2/3\n",
      "71754/71754 [==============================] - 12s - loss: 0.1371 - acc: 0.9591    \n",
      "Epoch 3/3\n",
      "71754/71754 [==============================] - 14s - loss: 0.1262 - acc: 0.9638    \n"
     ]
    },
    {
     "data": {
      "text/plain": [
       "<keras.callbacks.History at 0x7fe32df4f278>"
      ]
     },
     "execution_count": 104,
     "metadata": {},
     "output_type": "execute_result"
    }
   ],
   "source": [
    "model.fit(X_train.values, Y_train_encoded, \n",
    "                      epochs=num_epoch, batch_size=batch_size, shuffle=True,\n",
    "                      callbacks = None, verbose=1)"
   ]
  },
  {
   "cell_type": "markdown",
   "metadata": {
    "collapsed": true
   },
   "source": [
    "# Test on the test set"
   ]
  },
  {
   "cell_type": "code",
   "execution_count": 106,
   "metadata": {},
   "outputs": [
    {
     "data": {
      "text/plain": [
       "0.97437647666615057"
      ]
     },
     "execution_count": 106,
     "metadata": {},
     "output_type": "execute_result"
    }
   ],
   "source": [
    "eval_results(model, X_test.values, Y_test)"
   ]
  },
  {
   "cell_type": "code",
   "execution_count": null,
   "metadata": {},
   "outputs": [],
   "source": []
  }
 ],
 "metadata": {
  "kernelspec": {
   "display_name": "Python 3",
   "language": "python",
   "name": "python3"
  },
  "language_info": {
   "codemirror_mode": {
    "name": "ipython",
    "version": 3
   },
   "file_extension": ".py",
   "mimetype": "text/x-python",
   "name": "python",
   "nbconvert_exporter": "python",
   "pygments_lexer": "ipython3",
   "version": "3.5.2"
  }
 },
 "nbformat": 4,
 "nbformat_minor": 2
}
