{
 "cells": [
  {
   "cell_type": "markdown",
   "metadata": {},
   "source": [
    "# Keras deep neural network tuned with Bayesian optmization\n",
    "\n",
    "This notebook aims to demonstrate on training and tuning deep neural networks using Bayesian optmization. The example problem used in the notebook is a binary classification problem. We use Keras (with Tensorflow backend) as a library to develop neural network models and GPyOpt for Bayesian optmization library. In particular, the notebook performs the following.\n",
    "* Create a sample binary-classification dataset that is imbalanced (ratio = 1:9)\n",
    "* Split the dataset into training, test, and validation set\n",
    "* Execute oversampling on the training set\n",
    "* Develop example a parameterized deep learning model based on Keras Sequential model\n",
    "* Focus on 5 parameters: learning rate, drop out rate, number of layers, number of hidden units, number of epoch\n"
   ]
  },
  {
   "cell_type": "code",
   "execution_count": 124,
   "metadata": {},
   "outputs": [],
   "source": [
    "#!/usr/bin/env python\n",
    "from __future__ import absolute_import\n",
    "from __future__ import division\n",
    "from __future__ import print_function\n",
    "import pandas as pd\n",
    "import matplotlib.pyplot as plt\n",
    "import numpy as np\n",
    "import sklearn\n",
    "import tensorflow as tf\n",
    "%matplotlib inline  \n",
    "import keras\n",
    "\n",
    "USE_RESAMPLING = True"
   ]
  },
  {
   "cell_type": "markdown",
   "metadata": {},
   "source": [
    "Create an example binary-classification dataset from Sklearn API"
   ]
  },
  {
   "cell_type": "code",
   "execution_count": 125,
   "metadata": {},
   "outputs": [],
   "source": [
    "from sklearn.datasets import make_classification\n",
    "x_raw, y_raw = make_classification( n_samples=50000,   n_features=70,\n",
    "                                    n_informative=10, n_redundant=60,\n",
    "                                    random_state=42, weights={0:1.8, 1:1})"
   ]
  },
  {
   "cell_type": "markdown",
   "metadata": {},
   "source": [
    "Investigate on how imbalanced it is"
   ]
  },
  {
   "cell_type": "code",
   "execution_count": 126,
   "metadata": {},
   "outputs": [
    {
     "data": {
      "text/plain": [
       "array([44789,  5211])"
      ]
     },
     "execution_count": 126,
     "metadata": {},
     "output_type": "execute_result"
    }
   ],
   "source": [
    "np.bincount(y_raw)"
   ]
  },
  {
   "cell_type": "code",
   "execution_count": 127,
   "metadata": {},
   "outputs": [],
   "source": [
    "X_pd = pd.DataFrame(x_raw)\n",
    "Y_pd = pd.DataFrame(y_raw)"
   ]
  },
  {
   "cell_type": "markdown",
   "metadata": {},
   "source": [
    "Split the dataset into 2 parts"
   ]
  },
  {
   "cell_type": "code",
   "execution_count": 128,
   "metadata": {},
   "outputs": [],
   "source": [
    "from sklearn.model_selection import train_test_split\n",
    "X_train, X_test, Y_train, Y_test = train_test_split(X_pd, Y_pd, test_size=0.20,\n",
    "                                                    random_state=42)"
   ]
  },
  {
   "cell_type": "code",
   "execution_count": 129,
   "metadata": {},
   "outputs": [
    {
     "name": "stdout",
     "output_type": "stream",
     "text": [
      "(40000, 70)\n",
      "(40000, 1)\n",
      "(10000, 70)\n",
      "(10000, 1)\n"
     ]
    }
   ],
   "source": [
    "print(X_train.shape)\n",
    "print(Y_train.shape)\n",
    "print(X_test.shape)\n",
    "print(Y_test.shape)"
   ]
  },
  {
   "cell_type": "code",
   "execution_count": 130,
   "metadata": {},
   "outputs": [
    {
     "data": {
      "text/plain": [
       "0    8912\n",
       "1    1088\n",
       "Name: 0, dtype: int64"
      ]
     },
     "execution_count": 130,
     "metadata": {},
     "output_type": "execute_result"
    }
   ],
   "source": [
    "Y_test.iloc[:, 0].value_counts()"
   ]
  },
  {
   "cell_type": "markdown",
   "metadata": {},
   "source": [
    "# Add oversampling here"
   ]
  },
  {
   "cell_type": "code",
   "execution_count": 131,
   "metadata": {},
   "outputs": [],
   "source": [
    "from imblearn.combine import SMOTEENN\n",
    "from imblearn.over_sampling import SMOTE \n",
    "from imblearn.under_sampling import RandomUnderSampler\n",
    "from imblearn.under_sampling import ClusterCentroids\n",
    "\n",
    "if USE_RESAMPLING:\n",
    "    target_num_samples_major = Y_train[Y_train == 1].shape[0]\n",
    "    sampling_model = SMOTE()\n",
    "\n",
    "    X_resampled_train, Y_resampled_train = sampling_model.fit_sample(X_train, Y_train)\n",
    "    X_train = pd.DataFrame(X_resampled_train, columns=X_pd.columns)\n",
    "    Y_train = pd.DataFrame(Y_resampled_train)"
   ]
  },
  {
   "cell_type": "code",
   "execution_count": 132,
   "metadata": {},
   "outputs": [
    {
     "data": {
      "text/plain": [
       "1    35877\n",
       "0    35877\n",
       "Name: 0, dtype: int64"
      ]
     },
     "execution_count": 132,
     "metadata": {},
     "output_type": "execute_result"
    }
   ],
   "source": [
    "Y_train.iloc[:,0].value_counts()"
   ]
  },
  {
   "cell_type": "code",
   "execution_count": 133,
   "metadata": {},
   "outputs": [
    {
     "data": {
      "text/plain": [
       "0    8912\n",
       "1    1088\n",
       "Name: 0, dtype: int64"
      ]
     },
     "execution_count": 133,
     "metadata": {},
     "output_type": "execute_result"
    }
   ],
   "source": [
    "Y_test.iloc[:,0].value_counts()"
   ]
  },
  {
   "cell_type": "code",
   "execution_count": 134,
   "metadata": {},
   "outputs": [
    {
     "data": {
      "text/plain": [
       "array([[ 1.,  0.],\n",
       "       [ 1.,  0.],\n",
       "       [ 1.,  0.],\n",
       "       ..., \n",
       "       [ 0.,  1.],\n",
       "       [ 0.,  1.],\n",
       "       [ 0.,  1.]])"
      ]
     },
     "execution_count": 134,
     "metadata": {},
     "output_type": "execute_result"
    }
   ],
   "source": [
    "from sklearn.preprocessing import OneHotEncoder\n",
    "enc = OneHotEncoder()\n",
    "enc.fit(Y_train.values.reshape(-1, 1))\n",
    "Y_train_encoded = enc.transform(Y_train.values.reshape(-1, 1)).toarray()\n",
    "Y_test_encoded  = enc.transform(Y_test.values.reshape(-1, 1)).toarray()\n",
    "Y_train_encoded"
   ]
  },
  {
   "cell_type": "code",
   "execution_count": 135,
   "metadata": {},
   "outputs": [],
   "source": [
    "num_samples = X_train.shape[0]\n",
    "num_features = X_train.shape[1]"
   ]
  },
  {
   "cell_type": "code",
   "execution_count": 136,
   "metadata": {},
   "outputs": [],
   "source": [
    "import keras\n",
    "from keras.models import Sequential\n",
    "from keras.layers import Dense, Dropout, Activation, BatchNormalization\n",
    "from keras.optimizers import SGD, Adam\n",
    "from sklearn.metrics import roc_auc_score"
   ]
  },
  {
   "cell_type": "code",
   "execution_count": 137,
   "metadata": {},
   "outputs": [],
   "source": [
    "batch_size = 32"
   ]
  },
  {
   "cell_type": "markdown",
   "metadata": {},
   "source": [
    "Evaluation function"
   ]
  },
  {
   "cell_type": "code",
   "execution_count": 138,
   "metadata": {},
   "outputs": [],
   "source": [
    "def eval_results(model, X, Y):\n",
    "    predict_probs = model.predict(X, batch_size=batch_size)\n",
    "    Y_prob_score = predict_probs[:,1]\n",
    "    \n",
    "    return roc_auc_score(Y, Y_prob_score)"
   ]
  },
  {
   "cell_type": "markdown",
   "metadata": {},
   "source": [
    "# Wrap the evaluation function entirely inside a function"
   ]
  },
  {
   "cell_type": "code",
   "execution_count": 139,
   "metadata": {},
   "outputs": [],
   "source": [
    "def model_architecture(learning_rate, num_layers, hidden_units, dropout_rate, num_epoch):\n",
    "    model = Sequential()\n",
    "    model.add(Dense(hidden_units, activation='relu', input_dim=num_features))\n",
    "    \n",
    "    for _ in range(num_layers - 1):\n",
    "        model.add(Dense(hidden_units, activation='relu'))\n",
    "        model.add(Dropout(dropout_rate))\n",
    "        model.add(BatchNormalization(axis=-1, momentum=0.99, \n",
    "                                     epsilon=0.001, center=True, scale=True, \n",
    "                                     beta_initializer='zeros', gamma_initializer='ones'))\n",
    "\n",
    "    # Add head at the end to be a softmax layer (Binary classification)\n",
    "    model.add(Dense(2, activation='softmax'))\n",
    "\n",
    "    adam = Adam(lr=learning_rate)\n",
    "    model.compile(loss='binary_crossentropy',\n",
    "                  optimizer=adam,\n",
    "                  metrics=['accuracy'])\n",
    "    return model"
   ]
  },
  {
   "cell_type": "code",
   "execution_count": 140,
   "metadata": {},
   "outputs": [],
   "source": [
    "bounds   =  [  {'name': 'learning_rate',    'type': 'continuous',  'domain': (1e-4,1e-1) }, # Min, max for each parameter\n",
    "               {'name': 'dropout_rate',     'type': 'continuous',  'domain':  (0.01, 0.25) },\n",
    "               {'name': 'num_layers',       'type': 'discrete',    'domain': (5,10)},\n",
    "               {'name': 'hidden_units',     'type': 'discrete',    'domain': (5,30)},\n",
    "               {'name': 'num_epoch',        'type': 'discrete',    'domain':  (2,3)}]"
   ]
  },
  {
   "cell_type": "code",
   "execution_count": 141,
   "metadata": {},
   "outputs": [],
   "source": [
    "def get_model_from_paras_row(paras_row, i):\n",
    "    learning_rate = paras_row[0]\n",
    "    dropout_rate  = paras_row[1]\n",
    "    num_layers    = int(paras_row[2]) \n",
    "    hidden_units  = int(paras_row[3])\n",
    "    num_epoch     = paras_row[4]\n",
    "    \n",
    "    print(\"\"\" For row %s , learning rate = %.5f, num_layers = %s, hidden_units = %s, dropout_rate = %s, num_epoch = %s    \"\"\"\n",
    "          % (i, learning_rate, num_layers, hidden_units, dropout_rate,  num_epoch)         \n",
    "         )\n",
    "    return model_architecture(learning_rate=learning_rate,\n",
    "                              num_layers=num_layers,\n",
    "                              hidden_units=hidden_units,\n",
    "                              dropout_rate=dropout_rate,\n",
    "                              num_epoch=num_epoch)"
   ]
  },
  {
   "cell_type": "markdown",
   "metadata": {},
   "source": [
    "* Wrap a full K-fold validation inside a single function"
   ]
  },
  {
   "cell_type": "code",
   "execution_count": 142,
   "metadata": {},
   "outputs": [],
   "source": [
    "nfold = 2\n",
    "def fit_dnn(paras2d):\n",
    "    paras2d = np.atleast_2d(paras2d) # one row represents one set of parameters\n",
    "    \n",
    "    print(\" Getting in paras2d of shape = %s\" % str(paras2d.shape))\n",
    "    fs = np.zeros((paras2d.shape[0],1))\n",
    "    for i in range(paras2d.shape[0]):\n",
    "        fs[i] = 0 # accumulator for performance metric per fold\n",
    "        paras_row = paras2d[i]\n",
    "        model = get_model_from_paras_row(paras_row = paras_row, i=i)\n",
    "        \n",
    "        num_epoch = int(paras_row[4])        \n",
    "        for n in range(nfold):\n",
    "            idx = np.array(range(X_train.shape[0]))\n",
    "            idx_valid = np.logical_and(idx>=X_train.shape[0]/nfold*n, idx<X_train.shape[0]/nfold*(n+1))\n",
    "            idx_train = np.logical_not(idx_valid)\n",
    "            model.fit(X_train.values[idx_train,:], Y_train_encoded[idx_train,:], \n",
    "                      epochs=num_epoch, batch_size=batch_size, shuffle=True,\n",
    "                      callbacks = None, verbose=1)\n",
    "            fs[i] += eval_results(model, X_train.values[idx_valid, :], Y_train_encoded[idx_valid, 1])\n",
    "        fs[i] *= 1./nfold\n",
    "        \n",
    "        print(\" For row %s : we get the average cross validation score of %.3f: model paras = %s \" % (i, fs[i], paras_row))\n",
    "    return 1 - fs # We want to maximize fs (which is equivalent to minize 1 - fs\n",
    "    "
   ]
  },
  {
   "cell_type": "code",
   "execution_count": 143,
   "metadata": {},
   "outputs": [],
   "source": [
    "import GPyOpt # Bayesian optimization library"
   ]
  },
  {
   "cell_type": "code",
   "execution_count": 144,
   "metadata": {},
   "outputs": [
    {
     "name": "stdout",
     "output_type": "stream",
     "text": [
      " Getting in paras2d of shape = (1, 5)\n",
      " For row 0 , learning rate = 0.02780, num_layers = 10, hidden_units = 30, dropout_rate = 0.113639664222, num_epoch = 2.0    \n",
      "Epoch 1/2\n",
      "35877/35877 [==============================] - 16s - loss: 0.2066 - acc: 0.9085    \n",
      "Epoch 2/2\n",
      "35877/35877 [==============================] - 9s - loss: 0.1535 - acc: 0.9296     \n",
      "Epoch 1/2\n",
      "35877/35877 [==============================] - 9s - loss: 0.1562 - acc: 0.9486     \n",
      "Epoch 2/2\n",
      "35877/35877 [==============================] - 10s - loss: 0.1267 - acc: 0.9583    \n",
      " For row 0 : we get the average cross validation score of 0.973: model paras = [  2.77999055e-02   1.13639664e-01   1.00000000e+01   3.00000000e+01\n",
      "   2.00000000e+00] \n",
      " Getting in paras2d of shape = (1, 5)\n",
      " For row 0 , learning rate = 0.06645, num_layers = 5, hidden_units = 5, dropout_rate = 0.154261957554, num_epoch = 2.0    \n",
      "Epoch 1/2\n",
      "35877/35877 [==============================] - 9s - loss: 0.2602 - acc: 0.8949     \n",
      "Epoch 2/2\n",
      "35877/35877 [==============================] - 7s - loss: 0.2335 - acc: 0.8998     \n",
      "Epoch 1/2\n",
      "35877/35877 [==============================] - 6s - loss: 0.2341 - acc: 0.9254     \n",
      "Epoch 2/2\n",
      "35877/35877 [==============================] - 6s - loss: 0.1868 - acc: 0.9414     \n",
      " For row 0 : we get the average cross validation score of 0.958: model paras = [ 0.06645326  0.15426196  5.          5.          2.        ] \n",
      " Getting in paras2d of shape = (1, 5)\n",
      " For row 0 , learning rate = 0.04501, num_layers = 10, hidden_units = 30, dropout_rate = 0.104637769081, num_epoch = 3.0    \n",
      "Epoch 1/3\n",
      "35877/35877 [==============================] - 13s - loss: 0.2060 - acc: 0.9111    \n",
      "Epoch 2/3\n",
      "35877/35877 [==============================] - 11s - loss: 0.1630 - acc: 0.9244    \n",
      "Epoch 3/3\n",
      "35877/35877 [==============================] - 13s - loss: 0.1444 - acc: 0.9332    \n",
      "Epoch 1/3\n",
      "35877/35877 [==============================] - 11s - loss: 0.2432 - acc: 0.9282    \n",
      "Epoch 2/3\n",
      "35877/35877 [==============================] - 10s - loss: 0.1834 - acc: 0.9350    \n",
      "Epoch 3/3\n",
      "35877/35877 [==============================] - 9s - loss: 0.1547 - acc: 0.9450     \n",
      " For row 0 : we get the average cross validation score of 0.976: model paras = [  0.04500794   0.10463777  10.          30.           3.        ] \n",
      " Getting in paras2d of shape = (1, 5)\n",
      " For row 0 , learning rate = 0.05788, num_layers = 5, hidden_units = 5, dropout_rate = 0.197433297327, num_epoch = 3.0    \n",
      "Epoch 1/3\n",
      "35877/35877 [==============================] - 8s - loss: 0.2356 - acc: 0.9056     \n",
      "Epoch 2/3\n",
      "35877/35877 [==============================] - 5s - loss: 0.1972 - acc: 0.9153     \n",
      "Epoch 3/3\n",
      "35877/35877 [==============================] - 5s - loss: 0.1972 - acc: 0.9149     \n",
      "Epoch 1/3\n",
      "35877/35877 [==============================] - 5s - loss: 0.2094 - acc: 0.9283     \n",
      "Epoch 2/3\n",
      "35877/35877 [==============================] - 5s - loss: 0.1811 - acc: 0.9340     \n",
      "Epoch 3/3\n",
      "35877/35877 [==============================] - 6s - loss: 0.1778 - acc: 0.9385     \n",
      " For row 0 : we get the average cross validation score of 0.969: model paras = [ 0.05787665  0.1974333   5.          5.          3.        ] \n",
      " Getting in paras2d of shape = (1, 5)\n",
      " For row 0 , learning rate = 0.01875, num_layers = 10, hidden_units = 30, dropout_rate = 0.0999013010231, num_epoch = 2.0    \n",
      "Epoch 1/2\n",
      "35877/35877 [==============================] - 13s - loss: 0.1854 - acc: 0.9182    \n",
      "Epoch 2/2\n",
      "35877/35877 [==============================] - 9s - loss: 0.1408 - acc: 0.9350     \n",
      "Epoch 1/2\n",
      "35877/35877 [==============================] - 9s - loss: 0.1860 - acc: 0.9340     \n",
      "Epoch 2/2\n",
      "35877/35877 [==============================] - 10s - loss: 0.1294 - acc: 0.9553    \n",
      " For row 0 : we get the average cross validation score of 0.975: model paras = [  1.87486200e-02   9.99013010e-02   1.00000000e+01   3.00000000e+01\n",
      "   2.00000000e+00] \n",
      "The set cost function is ignored! LBC acquisition does not make sense with cost.\n"
     ]
    }
   ],
   "source": [
    "opt = GPyOpt.methods.BayesianOptimization(f = fit_dnn,          # function to optimize       \n",
    "                                          domain = bounds,          # box-constrains of the problem\n",
    "                                          acquisition_type ='LCB',  # LCB acquisition\n",
    "                                          acquisition_weight = 0.1) # Exploration exploitation"
   ]
  },
  {
   "cell_type": "code",
   "execution_count": 145,
   "metadata": {},
   "outputs": [
    {
     "name": "stdout",
     "output_type": "stream",
     "text": [
      " Getting in paras2d of shape = (1, 5)\n",
      " For row 0 , learning rate = 0.03469, num_layers = 10, hidden_units = 30, dropout_rate = 0.0925195191195, num_epoch = 3.0    \n",
      "Epoch 1/3\n",
      "35877/35877 [==============================] - 12s - loss: 0.1922 - acc: 0.9143    \n",
      "Epoch 2/3\n",
      "35877/35877 [==============================] - 9s - loss: 0.1537 - acc: 0.9304     \n",
      "Epoch 3/3\n",
      "35877/35877 [==============================] - 10s - loss: 0.1426 - acc: 0.9337    \n",
      "Epoch 1/3\n",
      "35877/35877 [==============================] - 9s - loss: 0.1984 - acc: 0.9340     \n",
      "Epoch 2/3\n",
      "35877/35877 [==============================] - 9s - loss: 0.1431 - acc: 0.9508     \n",
      "Epoch 3/3\n",
      "35877/35877 [==============================] - 9s - loss: 0.1328 - acc: 0.9540     \n",
      " For row 0 : we get the average cross validation score of 0.975: model paras = [  0.03469015   0.09251952  10.          30.           3.        ] \n",
      " Getting in paras2d of shape = (1, 5)\n",
      " For row 0 , learning rate = 0.06172, num_layers = 10, hidden_units = 30, dropout_rate = 0.11066094587, num_epoch = 3.0    \n",
      "Epoch 1/3\n",
      "35877/35877 [==============================] - 12s - loss: 0.2168 - acc: 0.9041    \n",
      "Epoch 2/3\n",
      "35877/35877 [==============================] - 10s - loss: 0.1707 - acc: 0.9219    \n",
      "Epoch 3/3\n",
      "35877/35877 [==============================] - 10s - loss: 0.1535 - acc: 0.9334    \n",
      "Epoch 1/3\n",
      "35877/35877 [==============================] - 8s - loss: 0.1837 - acc: 0.9400     \n",
      "Epoch 2/3\n",
      "35877/35877 [==============================] - 9s - loss: 0.1364 - acc: 0.9571     \n",
      "Epoch 3/3\n",
      "35877/35877 [==============================] - 9s - loss: 0.1632 - acc: 0.9451     \n",
      " For row 0 : we get the average cross validation score of 0.975: model paras = [  0.06172422   0.11066095  10.          30.           3.        ] \n",
      " Getting in paras2d of shape = (1, 5)\n",
      " For row 0 , learning rate = 0.00010, num_layers = 10, hidden_units = 30, dropout_rate = 0.01, num_epoch = 3.0    \n",
      "Epoch 1/3\n",
      "35877/35877 [==============================] - 13s - loss: 0.5759 - acc: 0.7113    \n",
      "Epoch 2/3\n",
      "35877/35877 [==============================] - 11s - loss: 0.3284 - acc: 0.8880    \n",
      "Epoch 3/3\n",
      "35877/35877 [==============================] - 11s - loss: 0.2492 - acc: 0.9065    \n",
      "Epoch 1/3\n",
      "35877/35877 [==============================] - 10s - loss: 1.0565 - acc: 0.4764    \n",
      "Epoch 2/3\n",
      "35877/35877 [==============================] - 10s - loss: 0.4779 - acc: 0.9099    \n",
      "Epoch 3/3\n",
      "35877/35877 [==============================] - 9s - loss: 0.3054 - acc: 0.9375     \n",
      " For row 0 : we get the average cross validation score of 0.920: model paras = [  1.00000000e-04   1.00000000e-02   1.00000000e+01   3.00000000e+01\n",
      "   3.00000000e+00] \n",
      " Getting in paras2d of shape = (1, 5)\n",
      " For row 0 , learning rate = 0.03164, num_layers = 10, hidden_units = 30, dropout_rate = 0.108027100964, num_epoch = 3.0    \n",
      "Epoch 1/3\n",
      "35877/35877 [==============================] - 14s - loss: 0.1973 - acc: 0.9140    \n",
      "Epoch 2/3\n",
      "35877/35877 [==============================] - 9s - loss: 0.1506 - acc: 0.9316     \n",
      "Epoch 3/3\n",
      "35877/35877 [==============================] - 10s - loss: 0.1324 - acc: 0.9400    \n",
      "Epoch 1/3\n",
      "35877/35877 [==============================] - 8s - loss: 0.1548 - acc: 0.9518     \n",
      "Epoch 2/3\n",
      "35877/35877 [==============================] - 12s - loss: 0.1283 - acc: 0.9581    \n",
      "Epoch 3/3\n",
      "35877/35877 [==============================] - 10s - loss: 0.1304 - acc: 0.9598    \n",
      " For row 0 : we get the average cross validation score of 0.976: model paras = [  0.03164254   0.1080271   10.          30.           3.        ] \n",
      " Getting in paras2d of shape = (1, 5)\n",
      " For row 0 , learning rate = 0.00436, num_layers = 10, hidden_units = 30, dropout_rate = 0.0780563225893, num_epoch = 2.0    \n",
      "Epoch 1/2\n",
      "35877/35877 [==============================] - 14s - loss: 0.2144 - acc: 0.9085    \n",
      "Epoch 2/2\n",
      "35877/35877 [==============================] - 10s - loss: 0.1346 - acc: 0.9412    \n",
      "Epoch 1/2\n",
      "35877/35877 [==============================] - 9s - loss: 0.1580 - acc: 0.9457     \n",
      "Epoch 2/2\n",
      "35877/35877 [==============================] - 10s - loss: 0.1148 - acc: 0.9647    \n",
      " For row 0 : we get the average cross validation score of 0.974: model paras = [  4.35642993e-03   7.80563226e-02   1.00000000e+01   3.00000000e+01\n",
      "   2.00000000e+00] \n",
      " Getting in paras2d of shape = (1, 5)\n",
      " For row 0 , learning rate = 0.03006, num_layers = 10, hidden_units = 30, dropout_rate = 0.115650308865, num_epoch = 3.0    \n",
      "Epoch 1/3\n",
      "35877/35877 [==============================] - 13s - loss: 0.1952 - acc: 0.9140    \n",
      "Epoch 2/3\n",
      "35877/35877 [==============================] - 10s - loss: 0.1465 - acc: 0.9314    \n",
      "Epoch 3/3\n",
      "35877/35877 [==============================] - 10s - loss: 0.1322 - acc: 0.9409    \n",
      "Epoch 1/3\n",
      "35877/35877 [==============================] - 11s - loss: 0.1797 - acc: 0.9381    \n",
      "Epoch 2/3\n",
      "35877/35877 [==============================] - 9s - loss: 0.1551 - acc: 0.9437     \n",
      "Epoch 3/3\n",
      "35877/35877 [==============================] - 10s - loss: 0.1414 - acc: 0.9508    \n",
      " For row 0 : we get the average cross validation score of 0.977: model paras = [  0.03005872   0.11565031  10.          30.           3.        ] \n",
      " Getting in paras2d of shape = (1, 5)\n",
      " For row 0 , learning rate = 0.02549, num_layers = 10, hidden_units = 30, dropout_rate = 0.132728249505, num_epoch = 3.0    \n",
      "Epoch 1/3\n",
      "35877/35877 [==============================] - 16s - loss: 0.2080 - acc: 0.9106    \n",
      "Epoch 2/3\n",
      "35877/35877 [==============================] - 17s - loss: 0.1581 - acc: 0.9285    \n",
      "Epoch 3/3\n",
      "35877/35877 [==============================] - 10s - loss: 0.1463 - acc: 0.9323    \n",
      "Epoch 1/3\n",
      "35877/35877 [==============================] - 11s - loss: 0.1725 - acc: 0.9418    \n",
      "Epoch 2/3\n",
      "35877/35877 [==============================] - 10s - loss: 0.1321 - acc: 0.9531    \n",
      "Epoch 3/3\n",
      "35877/35877 [==============================] - 11s - loss: 0.1211 - acc: 0.9624    \n",
      " For row 0 : we get the average cross validation score of 0.974: model paras = [  2.54865205e-02   1.32728250e-01   1.00000000e+01   3.00000000e+01\n",
      "   3.00000000e+00] \n",
      " Getting in paras2d of shape = (1, 5)\n",
      " For row 0 , learning rate = 0.03188, num_layers = 10, hidden_units = 30, dropout_rate = 0.11399417114, num_epoch = 3.0    \n",
      "Epoch 1/3\n",
      "35877/35877 [==============================] - 14s - loss: 0.1896 - acc: 0.9157    \n",
      "Epoch 2/3\n",
      "35877/35877 [==============================] - 11s - loss: 0.1549 - acc: 0.9286    \n",
      "Epoch 3/3\n",
      "35877/35877 [==============================] - 9s - loss: 0.1409 - acc: 0.9359     \n",
      "Epoch 1/3\n",
      "35877/35877 [==============================] - 10s - loss: 0.1765 - acc: 0.9386    \n",
      "Epoch 2/3\n",
      "35877/35877 [==============================] - 9s - loss: 0.1572 - acc: 0.9450     \n",
      "Epoch 3/3\n",
      "35877/35877 [==============================] - 10s - loss: 0.1335 - acc: 0.9543    \n",
      " For row 0 : we get the average cross validation score of 0.975: model paras = [  0.03188386   0.11399417  10.          30.           3.        ] \n",
      " Getting in paras2d of shape = (1, 5)\n",
      " For row 0 , learning rate = 0.03369, num_layers = 10, hidden_units = 30, dropout_rate = 0.10381666324, num_epoch = 3.0    \n",
      "Epoch 1/3\n",
      "35877/35877 [==============================] - 15s - loss: 0.2139 - acc: 0.9070    \n",
      "Epoch 2/3\n",
      "35877/35877 [==============================] - 11s - loss: 0.1595 - acc: 0.9284    \n",
      "Epoch 3/3\n",
      "35877/35877 [==============================] - 11s - loss: 0.1443 - acc: 0.9355    \n",
      "Epoch 1/3\n",
      "35877/35877 [==============================] - 9s - loss: 0.1679 - acc: 0.9465     \n",
      "Epoch 2/3\n",
      "35877/35877 [==============================] - 10s - loss: 0.1284 - acc: 0.9574    \n",
      "Epoch 3/3\n",
      "35877/35877 [==============================] - 9s - loss: 0.1342 - acc: 0.9586     \n",
      " For row 0 : we get the average cross validation score of 0.962: model paras = [  0.03368605   0.10381666  10.          30.           3.        ] \n",
      " Getting in paras2d of shape = (1, 5)\n",
      " For row 0 , learning rate = 0.05839, num_layers = 10, hidden_units = 30, dropout_rate = 0.136909118868, num_epoch = 3.0    \n",
      "Epoch 1/3\n",
      "35877/35877 [==============================] - 16s - loss: 0.2408 - acc: 0.8989    \n",
      "Epoch 2/3\n",
      "35877/35877 [==============================] - 11s - loss: 0.1837 - acc: 0.9145    \n",
      "Epoch 3/3\n",
      "35877/35877 [==============================] - 11s - loss: 0.1618 - acc: 0.9263    \n",
      "Epoch 1/3\n"
     ]
    },
    {
     "name": "stdout",
     "output_type": "stream",
     "text": [
      "35877/35877 [==============================] - 10s - loss: 0.3422 - acc: 0.9038    \n",
      "Epoch 2/3\n",
      "35877/35877 [==============================] - 11s - loss: 0.1770 - acc: 0.9393    \n",
      "Epoch 3/3\n",
      "35877/35877 [==============================] - 10s - loss: 0.1581 - acc: 0.9462    \n",
      " For row 0 : we get the average cross validation score of 0.974: model paras = [  0.05838656   0.13690912  10.          30.           3.        ] \n"
     ]
    },
    {
     "data": {
      "image/png": "[encoded data removed]",
      "text/plain": [
       "<matplotlib.figure.Figure at 0x7fe33b0b8cf8>"
      ]
     },
     "metadata": {},
     "output_type": "display_data"
    }
   ],
   "source": [
    "opt.run_optimization(max_iter=10)\n",
    "opt.plot_convergence()"
   ]
  },
  {
   "cell_type": "markdown",
   "metadata": {},
   "source": [
    "# Obtained parameters during the search process"
   ]
  },
  {
   "cell_type": "markdown",
   "metadata": {},
   "source": [
    "Best parameter was"
   ]
  },
  {
   "cell_type": "code",
   "execution_count": 146,
   "metadata": {},
   "outputs": [
    {
     "data": {
      "text/plain": [
       "array([  0.03005872,   0.11565031,  10.        ,  30.        ,   3.        ])"
      ]
     },
     "execution_count": 146,
     "metadata": {},
     "output_type": "execute_result"
    }
   ],
   "source": [
    "opt.x_opt"
   ]
  },
  {
   "cell_type": "markdown",
   "metadata": {},
   "source": [
    "Best cost was (1 - AUC)"
   ]
  },
  {
   "cell_type": "code",
   "execution_count": 147,
   "metadata": {},
   "outputs": [
    {
     "data": {
      "text/plain": [
       "array([ 0.02349265])"
      ]
     },
     "execution_count": 147,
     "metadata": {},
     "output_type": "execute_result"
    }
   ],
   "source": [
    "opt.fx_opt"
   ]
  },
  {
   "cell_type": "markdown",
   "metadata": {},
   "source": [
    "# Test the parameters on model"
   ]
  },
  {
   "cell_type": "markdown",
   "metadata": {},
   "source": [
    "Obtained the searched parameter"
   ]
  },
  {
   "cell_type": "code",
   "execution_count": 148,
   "metadata": {},
   "outputs": [
    {
     "name": "stdout",
     "output_type": "stream",
     "text": [
      " For row 0 , learning rate = 0.03006, num_layers = 10, hidden_units = 30, dropout_rate = 0.115650308865, num_epoch = 3.0    \n"
     ]
    }
   ],
   "source": [
    "model = get_model_from_paras_row(opt.x_opt, 0)"
   ]
  },
  {
   "cell_type": "code",
   "execution_count": 149,
   "metadata": {},
   "outputs": [
    {
     "data": {
      "text/plain": [
       "3"
      ]
     },
     "execution_count": 149,
     "metadata": {},
     "output_type": "execute_result"
    }
   ],
   "source": [
    "num_epoch = int(opt.x_opt[4])\n",
    "num_epoch"
   ]
  },
  {
   "cell_type": "markdown",
   "metadata": {},
   "source": [
    "Trained the model for the whole training dataset"
   ]
  },
  {
   "cell_type": "code",
   "execution_count": 150,
   "metadata": {},
   "outputs": [
    {
     "name": "stdout",
     "output_type": "stream",
     "text": [
      "Epoch 1/3\n",
      "71754/71754 [==============================] - 23s - loss: 0.2647 - acc: 0.9065    \n",
      "Epoch 2/3\n",
      "71754/71754 [==============================] - 20s - loss: 0.2188 - acc: 0.9291    \n",
      "Epoch 3/3\n",
      "71754/71754 [==============================] - 20s - loss: 0.2055 - acc: 0.9371    \n"
     ]
    },
    {
     "data": {
      "text/plain": [
       "<keras.callbacks.History at 0x7fe30d8542e8>"
      ]
     },
     "execution_count": 150,
     "metadata": {},
     "output_type": "execute_result"
    }
   ],
   "source": [
    "model.fit(X_train.values, Y_train_encoded, \n",
    "                      epochs=num_epoch, batch_size=batch_size, shuffle=True,\n",
    "                      callbacks = None, verbose=1)"
   ]
  },
  {
   "cell_type": "markdown",
   "metadata": {
    "collapsed": true
   },
   "source": [
    "# Test on the test set"
   ]
  },
  {
   "cell_type": "code",
   "execution_count": 151,
   "metadata": {},
   "outputs": [
    {
     "data": {
      "text/plain": [
       "0.96351720705393928"
      ]
     },
     "execution_count": 151,
     "metadata": {},
     "output_type": "execute_result"
    }
   ],
   "source": [
    "eval_results(model, X_test.values, Y_test)"
   ]
  },
  {
   "cell_type": "code",
   "execution_count": null,
   "metadata": {},
   "outputs": [],
   "source": []
  }
 ],
 "metadata": {
  "kernelspec": {
   "display_name": "Python 3",
   "language": "python",
   "name": "python3"
  },
  "language_info": {
   "codemirror_mode": {
    "name": "ipython",
    "version": 3
   },
   "file_extension": ".py",
   "mimetype": "text/x-python",
   "name": "python",
   "nbconvert_exporter": "python",
   "pygments_lexer": "ipython3",
   "version": "3.5.2"
  }
 },
 "nbformat": 4,
 "nbformat_minor": 2
}
