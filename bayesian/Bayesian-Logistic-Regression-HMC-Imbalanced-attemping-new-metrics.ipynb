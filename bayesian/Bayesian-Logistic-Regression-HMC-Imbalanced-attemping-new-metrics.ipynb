{
 "cells": [
  {
   "cell_type": "markdown",
   "metadata": {},
   "source": [
    "# Bayesian Logistic Regression using Hamiltonian Monte Carlo (A.K.A. Hybrid Monte Carlo)\n",
    "\n",
    "This notebook aims to demonstrate on training a Bayesian logistic regression model. The example problem used in the notebook is a binary classification problem. We use Edward (https://github.com/blei-lab/edward) as a Python library to develop the model, since it bases on Tensorflow (https://www.tensorflow.org/) and supports running code on GPU. In particular, the notebook performs the following.\n",
    "\n",
    "- Create a sample binary-classification dataset that is imbalanced (ratio = 1:9)\n",
    "- Split the dataset into training and test sets (20% of samples for the test set)\n",
    "- Define the Bayesian logistic regression model using edward. \n",
    "    - We assume Gaussian priors for all parameters for simplicity\n",
    "    - For Bayesian inference, we use Empirical distribution for the posterior\n",
    "- Running the inference using edward by feeding the data and estimate the posterior\n",
    "- Using the model to evaluate on samples by visualizing distribution of predicted probabilities\n",
    "- Using the model to evaluate the overall binary-classification metrics"
   ]
  },
  {
   "cell_type": "code",
   "execution_count": 4,
   "metadata": {
    "collapsed": true
   },
   "outputs": [],
   "source": [
    "#!/usr/bin/env python\n",
    "\"\"\"Bayesian logistic regression using Hamiltonian Monte Carlo.\n",
    "\"\"\"\n",
    "from __future__ import absolute_import\n",
    "from __future__ import division\n",
    "from __future__ import print_function\n",
    "import pandas as pd\n",
    "import edward as ed\n",
    "import matplotlib.pyplot as plt\n",
    "import numpy as np\n",
    "import sklearn\n",
    "import tensorflow as tf\n",
    "%matplotlib inline  \n",
    "from edward.models import Bernoulli, Normal, Empirical"
   ]
  },
  {
   "cell_type": "markdown",
   "metadata": {},
   "source": [
    "Define default GPU device"
   ]
  },
  {
   "cell_type": "code",
   "execution_count": 5,
   "metadata": {
    "collapsed": true
   },
   "outputs": [],
   "source": [
    "DEFAULT_GPU_DEVICE = \"/gpu:0\""
   ]
  },
  {
   "cell_type": "code",
   "execution_count": 6,
   "metadata": {},
   "outputs": [],
   "source": [
    "num_features = 60  # number of features\n",
    "num_samples =  10000 # number of samples\n",
    "\n",
    "from sklearn.datasets import make_classification\n",
    "X_gen, Y_gen = make_classification(n_samples=num_samples, n_features=num_features,\n",
    "                                    n_informative=10, n_redundant=50,\n",
    "                                    random_state=42, weights={0:1.8, 1:1})"
   ]
  },
  {
   "cell_type": "markdown",
   "metadata": {},
   "source": [
    "Look at the distribution of artificially created dataset"
   ]
  },
  {
   "cell_type": "code",
   "execution_count": 7,
   "metadata": {},
   "outputs": [
    {
     "data": {
      "text/plain": [
       "array([8980, 1020])"
      ]
     },
     "execution_count": 7,
     "metadata": {},
     "output_type": "execute_result"
    }
   ],
   "source": [
    "np.bincount(Y_gen)"
   ]
  },
  {
   "cell_type": "markdown",
   "metadata": {},
   "source": [
    "Convert data to using float representation (required by current version of edward)"
   ]
  },
  {
   "cell_type": "code",
   "execution_count": 8,
   "metadata": {
    "collapsed": true
   },
   "outputs": [],
   "source": [
    "X_data = pd.DataFrame(X_gen.astype('float32'))\n",
    "Y_data = pd.DataFrame(Y_gen.astype('float32'))"
   ]
  },
  {
   "cell_type": "code",
   "execution_count": 9,
   "metadata": {
    "collapsed": true
   },
   "outputs": [],
   "source": [
    "from sklearn.model_selection import train_test_split\n",
    "X_train, X_test, Y_train, Y_test = train_test_split(X_data, Y_data, test_size=0.20,\n",
    "                                                    random_state=42)"
   ]
  },
  {
   "cell_type": "code",
   "execution_count": 10,
   "metadata": {},
   "outputs": [
    {
     "data": {
      "text/plain": [
       "pandas.core.frame.DataFrame"
      ]
     },
     "execution_count": 10,
     "metadata": {},
     "output_type": "execute_result"
    }
   ],
   "source": [
    "type(X_train)"
   ]
  },
  {
   "cell_type": "code",
   "execution_count": 11,
   "metadata": {},
   "outputs": [
    {
     "name": "stdout",
     "output_type": "stream",
     "text": [
      "(8000, 60)\n",
      "(8000, 1)\n",
      "(2000, 60)\n",
      "(2000, 1)\n"
     ]
    },
    {
     "data": {
      "text/plain": [
       "8000"
      ]
     },
     "execution_count": 11,
     "metadata": {},
     "output_type": "execute_result"
    }
   ],
   "source": [
    "print(X_train.shape)\n",
    "print(Y_train.shape)\n",
    "print(X_test.shape)\n",
    "print(Y_test.shape)\n",
    "\n",
    "N = X_train.shape[0]\n",
    "N"
   ]
  },
  {
   "cell_type": "markdown",
   "metadata": {},
   "source": [
    "# Model definition "
   ]
  },
  {
   "cell_type": "markdown",
   "metadata": {},
   "source": [
    "Define logistic regression function "
   ]
  },
  {
   "cell_type": "code",
   "execution_count": 14,
   "metadata": {
    "collapsed": true
   },
   "outputs": [],
   "source": [
    "def logits_func(X, w, b):\n",
    "  h = ed.dot(X, w) + b\n",
    "  return tf.reshape(h, [-1])"
   ]
  },
  {
   "cell_type": "markdown",
   "metadata": {},
   "source": [
    "Bayesian Logistic Regression Model"
   ]
  },
  {
   "cell_type": "code",
   "execution_count": 19,
   "metadata": {},
   "outputs": [],
   "source": [
    "X = tf.placeholder(tf.float32, [N, num_features])\n",
    "w = Normal(loc=tf.zeros(num_features, dtype=tf.float32),  scale=3.0 * tf.ones(num_features, dtype=tf.float32))\n",
    "b = Normal(loc=tf.zeros([], dtype=tf.float32), scale=3.0 * tf.ones([], dtype=tf.float32))\n",
    "y = Bernoulli(logits=tf.reshape(logits_func(X, w, b), [N, 1]), dtype=tf.float32)"
   ]
  },
  {
   "cell_type": "code",
   "execution_count": 20,
   "metadata": {},
   "outputs": [
    {
     "data": {
      "text/plain": [
       "TensorShape([Dimension(8000), Dimension(1)])"
      ]
     },
     "execution_count": 20,
     "metadata": {},
     "output_type": "execute_result"
    }
   ],
   "source": [
    "y.shape"
   ]
  },
  {
   "cell_type": "markdown",
   "metadata": {},
   "source": [
    "Inference definition"
   ]
  },
  {
   "cell_type": "code",
   "execution_count": 22,
   "metadata": {},
   "outputs": [],
   "source": [
    "T = 5000  # number of samples to sample for the empirical distribution\n",
    "qw = Empirical(params=tf.Variable(tf.random_normal([T, num_features], dtype=tf.float32)))\n",
    "qb = Empirical(params=tf.Variable(tf.random_normal([T], dtype=tf.float32)))"
   ]
  },
  {
   "cell_type": "markdown",
   "metadata": {},
   "source": [
    "Verify that the prior and posterior estimation are of the same shapes"
   ]
  },
  {
   "cell_type": "code",
   "execution_count": 23,
   "metadata": {},
   "outputs": [
    {
     "name": "stdout",
     "output_type": "stream",
     "text": [
      "(60,)\n",
      "(60,)\n"
     ]
    }
   ],
   "source": [
    "print(w.shape)\n",
    "print(qw.shape)"
   ]
  },
  {
   "cell_type": "code",
   "execution_count": 24,
   "metadata": {},
   "outputs": [
    {
     "name": "stdout",
     "output_type": "stream",
     "text": [
      "()\n",
      "()\n"
     ]
    }
   ],
   "source": [
    "print(b.shape)\n",
    "print(qb.shape)"
   ]
  },
  {
   "cell_type": "markdown",
   "metadata": {},
   "source": [
    "# Execute the inferences (Training on the training set)"
   ]
  },
  {
   "cell_type": "code",
   "execution_count": 25,
   "metadata": {
    "collapsed": true
   },
   "outputs": [],
   "source": [
    "hmc_inference = ed.HMC({w: qw, b: qb}, data={X: X_train.values, y: Y_train.values})\n",
    "hmc_inference.initialize(n_print=10, step_size=0.0005)"
   ]
  },
  {
   "cell_type": "code",
   "execution_count": 26,
   "metadata": {
    "collapsed": true
   },
   "outputs": [],
   "source": [
    "tf.global_variables_initializer().run()"
   ]
  },
  {
   "cell_type": "code",
   "execution_count": 27,
   "metadata": {},
   "outputs": [
    {
     "name": "stdout",
     "output_type": "stream",
     "text": [
      "5000/5000 [100%] ██████████████████████████████ Elapsed: 22s | Acceptance Rate: 1.000\n"
     ]
    }
   ],
   "source": [
    "for t in range(hmc_inference.n_iter):\n",
    "  info_dict = hmc_inference.update()\n",
    "  hmc_inference.print_progress(info_dict)"
   ]
  },
  {
   "cell_type": "markdown",
   "metadata": {},
   "source": [
    "Evaluatation code for a single sample"
   ]
  },
  {
   "cell_type": "code",
   "execution_count": 31,
   "metadata": {
    "collapsed": true
   },
   "outputs": [],
   "source": [
    "def eval_at_sample(index):\n",
    "    \"\"\"\n",
    "    Evaluate a single sample of a test set \n",
    "    :param index: index of the sample for testing\n",
    "    :return:\n",
    "    \"\"\"\n",
    "    print(\" Real value is %s\" % Y_test.iloc[index, 0])\n",
    "    # Build samples from inferred posterior.\n",
    "    num_samples = 100\n",
    "    probs = tf.concat([tf.sigmoid(\n",
    "             logits_func(X_test.iloc[index,:].values.reshape([1, num_features]), \n",
    "                                              qw.sample(),\n",
    "                                              qb.sample()\n",
    "                                             ))\n",
    "                      for _ in range(num_samples)], axis=0)\n",
    "    pd.DataFrame(probs.eval()).plot(kind=\"density\")"
   ]
  },
  {
   "cell_type": "markdown",
   "metadata": {},
   "source": [
    "# How does the predicted distribution of probability look like for class = 0?"
   ]
  },
  {
   "cell_type": "code",
   "execution_count": 32,
   "metadata": {},
   "outputs": [
    {
     "name": "stdout",
     "output_type": "stream",
     "text": [
      " Real value is 0.0\n"
     ]
    },
    {
     "data": {
      "image/png": "[encoded data removed]",
      "text/plain": [
       "<matplotlib.figure.Figure at 0x7f467184cd30>"
      ]
     },
     "metadata": {},
     "output_type": "display_data"
    }
   ],
   "source": [
    "eval_at_sample(0)"
   ]
  },
  {
   "cell_type": "code",
   "execution_count": 33,
   "metadata": {},
   "outputs": [
    {
     "name": "stdout",
     "output_type": "stream",
     "text": [
      " Real value is 0.0\n"
     ]
    },
    {
     "data": {
      "image/png": "[encoded data removed]",
      "text/plain": [
       "<matplotlib.figure.Figure at 0x7f4667e89c18>"
      ]
     },
     "metadata": {},
     "output_type": "display_data"
    }
   ],
   "source": [
    "eval_at_sample(2)"
   ]
  },
  {
   "cell_type": "code",
   "execution_count": 34,
   "metadata": {},
   "outputs": [
    {
     "name": "stdout",
     "output_type": "stream",
     "text": [
      " Real value is 0.0\n"
     ]
    },
    {
     "data": {
      "image/png": "[encoded data removed]",
      "text/plain": [
       "<matplotlib.figure.Figure at 0x7f4662f8db70>"
      ]
     },
     "metadata": {},
     "output_type": "display_data"
    }
   ],
   "source": [
    "eval_at_sample(3)"
   ]
  },
  {
   "cell_type": "code",
   "execution_count": 35,
   "metadata": {},
   "outputs": [
    {
     "name": "stdout",
     "output_type": "stream",
     "text": [
      " Real value is 0.0\n"
     ]
    },
    {
     "data": {
      "image/png": "[encoded data removed]",
      "text/plain": [
       "<matplotlib.figure.Figure at 0x7f465dc17c88>"
      ]
     },
     "metadata": {},
     "output_type": "display_data"
    }
   ],
   "source": [
    "eval_at_sample(5)"
   ]
  },
  {
   "cell_type": "code",
   "execution_count": 36,
   "metadata": {},
   "outputs": [
    {
     "name": "stdout",
     "output_type": "stream",
     "text": [
      " Real value is 0.0\n"
     ]
    },
    {
     "data": {
      "image/png": "[encoded data removed]",
      "text/plain": [
       "<matplotlib.figure.Figure at 0x7f4658a940b8>"
      ]
     },
     "metadata": {},
     "output_type": "display_data"
    }
   ],
   "source": [
    "eval_at_sample(7)"
   ]
  },
  {
   "cell_type": "code",
   "execution_count": 37,
   "metadata": {},
   "outputs": [
    {
     "name": "stdout",
     "output_type": "stream",
     "text": [
      " Real value is 0.0\n"
     ]
    },
    {
     "data": {
      "image/png": "[encoded data removed]",
      "text/plain": [
       "<matplotlib.figure.Figure at 0x7f4653ad0d30>"
      ]
     },
     "metadata": {},
     "output_type": "display_data"
    }
   ],
   "source": [
    "eval_at_sample(10)"
   ]
  },
  {
   "cell_type": "markdown",
   "metadata": {},
   "source": [
    "It looks quite promising, since most of the negative samples low probability in the predictions"
   ]
  },
  {
   "cell_type": "markdown",
   "metadata": {},
   "source": [
    "# How does the predicted distribution of probability look like for class = 1?"
   ]
  },
  {
   "cell_type": "code",
   "execution_count": 68,
   "metadata": {},
   "outputs": [
    {
     "name": "stdout",
     "output_type": "stream",
     "text": [
      " Real value is 1.0\n"
     ]
    },
    {
     "data": {
      "image/png": "[encoded data removed]",
      "text/plain": [
       "<matplotlib.figure.Figure at 0x7f4a3924dcf8>"
      ]
     },
     "metadata": {},
     "output_type": "display_data"
    }
   ],
   "source": [
    "eval_at_sample(9)"
   ]
  },
  {
   "cell_type": "code",
   "execution_count": 69,
   "metadata": {},
   "outputs": [
    {
     "name": "stdout",
     "output_type": "stream",
     "text": [
      " Real value is 1.0\n"
     ]
    },
    {
     "data": {
      "image/png": "[encoded data removed]",
      "text/plain": [
       "<matplotlib.figure.Figure at 0x7f4a33f7cac8>"
      ]
     },
     "metadata": {},
     "output_type": "display_data"
    }
   ],
   "source": [
    "eval_at_sample(23)"
   ]
  },
  {
   "cell_type": "code",
   "execution_count": 70,
   "metadata": {},
   "outputs": [
    {
     "name": "stdout",
     "output_type": "stream",
     "text": [
      " Real value is 1.0\n"
     ]
    },
    {
     "data": {
      "image/png": "[encoded data removed]",
      "text/plain": [
       "<matplotlib.figure.Figure at 0x7f4a2ea97cf8>"
      ]
     },
     "metadata": {},
     "output_type": "display_data"
    }
   ],
   "source": [
    "eval_at_sample(1995)"
   ]
  },
  {
   "cell_type": "code",
   "execution_count": 71,
   "metadata": {},
   "outputs": [
    {
     "name": "stdout",
     "output_type": "stream",
     "text": [
      " Real value is 1.0\n"
     ]
    },
    {
     "data": {
      "image/png": "[encoded data removed]",
      "text/plain": [
       "<matplotlib.figure.Figure at 0x7f4a2972bcc0>"
      ]
     },
     "metadata": {},
     "output_type": "display_data"
    }
   ],
   "source": [
    "eval_at_sample(1623)"
   ]
  },
  {
   "cell_type": "code",
   "execution_count": 72,
   "metadata": {},
   "outputs": [
    {
     "name": "stdout",
     "output_type": "stream",
     "text": [
      " Real value is 1.0\n"
     ]
    },
    {
     "data": {
      "image/png": "[encoded data removed]",
      "text/plain": [
       "<matplotlib.figure.Figure at 0x7f4a240e2d68>"
      ]
     },
     "metadata": {},
     "output_type": "display_data"
    }
   ],
   "source": [
    "eval_at_sample(1632)"
   ]
  },
  {
   "cell_type": "code",
   "execution_count": 73,
   "metadata": {},
   "outputs": [
    {
     "name": "stdout",
     "output_type": "stream",
     "text": [
      " Real value is 1.0\n"
     ]
    },
    {
     "data": {
      "image/png": "[encoded data removed]",
      "text/plain": [
       "<matplotlib.figure.Figure at 0x7f4a1ecb1da0>"
      ]
     },
     "metadata": {},
     "output_type": "display_data"
    }
   ],
   "source": [
    "eval_at_sample(1804)"
   ]
  },
  {
   "cell_type": "markdown",
   "metadata": {},
   "source": [
    "Most of the positive samples have high probability in the predictions"
   ]
  },
  {
   "cell_type": "markdown",
   "metadata": {
    "collapsed": true
   },
   "source": [
    "# What about overall evaluation results?"
   ]
  },
  {
   "cell_type": "markdown",
   "metadata": {},
   "source": [
    "We adopt minibatch prediction here to speed up the computation"
   ]
  },
  {
   "cell_type": "code",
   "execution_count": 53,
   "metadata": {
    "collapsed": true
   },
   "outputs": [],
   "source": [
    "from sklearn import metrics"
   ]
  },
  {
   "cell_type": "code",
   "execution_count": 54,
   "metadata": {
    "collapsed": true
   },
   "outputs": [],
   "source": [
    "batch_size = 5"
   ]
  },
  {
   "cell_type": "markdown",
   "metadata": {},
   "source": [
    "Setup a specific threshold for detection, you can adjust here to have a tradeoff between precision and recall"
   ]
  },
  {
   "cell_type": "code",
   "execution_count": 55,
   "metadata": {
    "collapsed": true
   },
   "outputs": [],
   "source": [
    "selected_percentile = 30\n",
    "selected_threshold  =  0.8"
   ]
  },
  {
   "cell_type": "code",
   "execution_count": 69,
   "metadata": {
    "collapsed": true
   },
   "outputs": [],
   "source": [
    "def probs_tensor_at_sample(X_row):\n",
    "    \"\"\"\n",
    "    Compute a probability distribution of a single sample (by sampling from posterior distribution)\n",
    "    :param X_row: input data of a single observation\n",
    "    :return: 1-D tensor of shape [1, num_predict_samples] that are sampled from the distribution\n",
    "    \"\"\"\n",
    "    num_predict_samples = 100\n",
    "    return tf.concat([\n",
    "        tf.sigmoid(logits_func(X_row, qw.sample(), qb.sample())) \n",
    "        for _ in range(num_predict_samples)], axis=0)"
   ]
  },
  {
   "cell_type": "code",
   "execution_count": 70,
   "metadata": {
    "collapsed": true
   },
   "outputs": [],
   "source": [
    "def probs_tensor_batch(X_rows_pl):\n",
    "    \"\"\"\n",
    "    Compute a batch of posterior probability distribution of a batch of samples    \n",
    "    :param X_rows_pl: a batch of input data (Tensorflow placeholder)\n",
    "    :return: 2-D tensor of shape [batch_size, num_predict_samples]\n",
    "    \"\"\"\n",
    "    return tf.stack([\n",
    "                      probs_tensor_at_sample(\n",
    "                          tf.reshape(X_rows_pl[i,:], [1, num_features]))\n",
    "                      for i in range(X_rows_pl.shape[0])])"
   ]
  },
  {
   "cell_type": "markdown",
   "metadata": {},
   "source": [
    "Use the GPU device here in order to speedup the computation"
   ]
  },
  {
   "cell_type": "code",
   "execution_count": 71,
   "metadata": {
    "collapsed": true
   },
   "outputs": [],
   "source": [
    "with tf.device(DEFAULT_GPU_DEVICE):\n",
    "    X_rows_pl = tf.placeholder(tf.float32, [batch_size, num_features])\n",
    "    tf_graph = probs_tensor_batch(X_rows_pl)"
   ]
  },
  {
   "cell_type": "code",
   "execution_count": 72,
   "metadata": {
    "collapsed": true
   },
   "outputs": [],
   "source": [
    "def prediction_decision_function(probs_output):\n",
    "    \"\"\"\n",
    "    Compute a prediction decision for a particular sample from the distribution of probabilities    \n",
    "    :param probs_output: 1-D tensor of shape [1, num_predict_samples] that are sampled from the distribution\n",
    "    :return: 2-D tensor of shape [batch_size, num_predict_samples]\n",
    "    \"\"\"\n",
    "    if np.percentile(probs_output, selected_percentile) >= selected_threshold:\n",
    "        return 1.0\n",
    "    else:\n",
    "        return 0.0\n",
    "    "
   ]
  },
  {
   "cell_type": "code",
   "execution_count": 83,
   "metadata": {},
   "outputs": [
    {
     "data": {
      "text/plain": [
       "array([[ 1. ,  1.1,  1. ],\n",
       "       [ 2. ,  2.5,  2. ],\n",
       "       [ 3. ,  4. ,  3. ]])"
      ]
     },
     "execution_count": 83,
     "metadata": {},
     "output_type": "execute_result"
    }
   ],
   "source": [
    "test_array = np.array([[1,1.1,1], [2,2.5,2], [3,4,3]])\n",
    "test_array"
   ]
  },
  {
   "cell_type": "code",
   "execution_count": 86,
   "metadata": {},
   "outputs": [
    {
     "data": {
      "text/plain": [
       "array([ 1.03333333,  2.16666667,  3.33333333])"
      ]
     },
     "execution_count": 86,
     "metadata": {},
     "output_type": "execute_result"
    }
   ],
   "source": [
    "np.mean(test_array, axis=1)"
   ]
  },
  {
   "cell_type": "code",
   "execution_count": null,
   "metadata": {
    "collapsed": true
   },
   "outputs": [],
   "source": [
    "def prediction_decision_function(probs_output):\n",
    "    \"\"\"\n",
    "    Compute a prediction decision for a particular sample from the distribution of probabilities    \n",
    "    :param probs_output: 1-D tensor of shape [1, num_predict_samples] that are sampled from the distribution\n",
    "    :return: 2-D tensor of shape [batch_size, num_predict_samples]\n",
    "    \"\"\"\n",
    "    return np.mean(probs_output, axis=1)    "
   ]
  },
  {
   "cell_type": "code",
   "execution_count": 73,
   "metadata": {
    "collapsed": true
   },
   "outputs": [],
   "source": [
    "def eval_predict_at_batch(batch_offset, X, Y):\n",
    "    \"\"\" \n",
    "    Evaluation of prediction results of a single batch\n",
    "    :param batch_offset: the integer indicating the offset from the full data\n",
    "    :param X: the full input data\n",
    "    :param Y: the full output data\n",
    "    :return \n",
    "    \"\"\"\n",
    "    X_rows =  X.iloc[batch_offset:(batch_offset + batch_size), :].values\n",
    "    Y_rows =  Y.iloc[batch_offset:(batch_offset + batch_size)].values\n",
    "    probs_batch_out = tf_graph.eval(feed_dict={X_rows_pl: X_rows})\n",
    "    predict_batch_output = []\n",
    "    predict_batch_percentiles = []\n",
    "    for i in range(probs_batch_out.shape[0]):\n",
    "        predict_batch_percentiles += [np.percentile(probs_batch_out[i], selected_percentile)]        \n",
    "        predict_batch_output += [prediction_decision_function(\n",
    "                                probs_batch_out[i])]\n",
    "    return predict_batch_output, predict_batch_percentiles"
   ]
  },
  {
   "cell_type": "code",
   "execution_count": 74,
   "metadata": {
    "collapsed": true
   },
   "outputs": [],
   "source": [
    "def get_classification_results_text(Y_actual, Y_prediction):\n",
    "    \"\"\"\n",
    "    Produce classification results in textual format\n",
    "    :param 1-D array of actual output\n",
    "    :param 1-D array of predictions\n",
    "    :return Textual representation of the classification results\n",
    "    \"\"\"\n",
    "    \n",
    "    string_output = \"\"\n",
    "    string_output += \"accuracy = %.2f, precision = %.2f, recall = %.2f, F1-score = %.2f \\n\" % (\n",
    "            metrics.accuracy_score(Y_actual, Y_prediction),\n",
    "            metrics.precision_score(Y_actual, Y_prediction),\n",
    "            metrics.recall_score(Y_actual, Y_prediction),\n",
    "            metrics.f1_score(Y_actual, Y_prediction)\n",
    "        )\n",
    "    \n",
    "    string_output += (\" ---------- Confusion Matrix ------------\\n\")\n",
    "    string_output += str(metrics.confusion_matrix(Y_actual, Y_prediction)) + \"\\n\"\n",
    "    string_output += (\" ----------------------------------------\\n\")\n",
    "    return string_output"
   ]
  },
  {
   "cell_type": "code",
   "execution_count": 75,
   "metadata": {
    "collapsed": true
   },
   "outputs": [],
   "source": [
    "def eval_classification_on_indexes(input_indexes, X, Y):\n",
    "    \"\"\"\n",
    "    Evaluate classification results at particular sample indexes\n",
    "    :param input_indexes: integer indexes of samples to evaluate on\n",
    "    :param X: full input data\n",
    "    :param Y: full output data\n",
    "    \"\"\"\n",
    "    num_batches  = len(input_indexes) // batch_size\n",
    "    indexes      = input_indexes[:(num_batches * batch_size)]\n",
    "    X_on_indexes = X.loc[indexes, :]\n",
    "    Y_on_indexes = Y.loc[indexes]\n",
    "    Y_predictions = []\n",
    "    selected_percentiles = []\n",
    "    \n",
    "    for batch_index in range(num_batches):\n",
    "        batch_offset = batch_index * batch_size\n",
    "        batch_predictions, batch_percentiles = eval_predict_at_batch(batch_offset, X_on_indexes, Y_on_indexes)\n",
    "        Y_predictions += batch_predictions\n",
    "        selected_percentiles += batch_percentiles\n",
    "           \n",
    "    return get_classification_results_text(Y_on_indexes, Y_predictions), selected_percentiles"
   ]
  },
  {
   "cell_type": "code",
   "execution_count": 76,
   "metadata": {
    "collapsed": true
   },
   "outputs": [],
   "source": [
    "def eval_classification_on_main(num_eval_samples, X, Y, Y_values_in=[0.0, 1.0]):    \n",
    "    \"\"\"\n",
    "    Evaluate classification results according to number of samples and valued of output\n",
    "    :param num_eval_samples: number of samples to evaluate\n",
    "    :param X: full input data\n",
    "    :param Y: full output data\n",
    "    :param Y_values_in: list of possible Y values to include in the evaluation\n",
    "    \"\"\"\n",
    "    selected_indexes = Y[Y.apply(lambda x: x[0] in Y_values_in, axis=1)].sample(num_eval_samples).index\n",
    "    result_text, selected_percentiles = eval_classification_on_indexes(selected_indexes, \n",
    "                                           X, \n",
    "                                           Y)\n",
    "    print(\" -------- Classification Summary -------------\")\n",
    "    print(result_text)"
   ]
  },
  {
   "cell_type": "code",
   "execution_count": 77,
   "metadata": {
    "collapsed": true
   },
   "outputs": [],
   "source": [
    "def eval_classification_on_indexes_test(num_eval_samples, Y_values_in=[0.0, 1.0]):\n",
    "    \"\"\"\n",
    "    Evaluation on test dataset according to specified number of samples\n",
    "    :param num_eval_samples: number of samples to evaluate\n",
    "    :param Y_values_in: list of possible Y values to include in the evaluation\n",
    "    \"\"\"\n",
    "    eval_classification_on_main(num_eval_samples, X_test,  Y_test,  Y_values_in)\n",
    "\n",
    "def eval_classification_on_indexes_train(num_eval_samples, Y_values_in=[0.0, 1.0]):\n",
    "    \"\"\"\n",
    "    Evaluation on training dataset according to specified number of samples\n",
    "    :param num_eval_samples: number of samples to evaluate\n",
    "    :param Y_values_in: list of possible Y values to include in the evaluation\n",
    "    \"\"\"\n",
    "    eval_classification_on_main(num_eval_samples, X_train, Y_train, Y_values_in)\n",
    "\n"
   ]
  },
  {
   "cell_type": "code",
   "execution_count": 80,
   "metadata": {},
   "outputs": [
    {
     "name": "stdout",
     "output_type": "stream",
     "text": [
      " -------- Classification Summary -------------\n",
      "accuracy = 0.93, precision = 0.76, recall = 0.64, F1-score = 0.69 \n",
      " ---------- Confusion Matrix ------------\n",
      "[[430  12]\n",
      " [ 21  37]]\n",
      " ----------------------------------------\n",
      "\n"
     ]
    }
   ],
   "source": [
    "eval_classification_on_indexes_train(500)"
   ]
  },
  {
   "cell_type": "code",
   "execution_count": 81,
   "metadata": {},
   "outputs": [
    {
     "name": "stdout",
     "output_type": "stream",
     "text": [
      " -------- Classification Summary -------------\n",
      "accuracy = 0.95, precision = 0.73, recall = 0.77, F1-score = 0.75 \n",
      " ---------- Confusion Matrix ------------\n",
      "[[432  15]\n",
      " [ 12  41]]\n",
      " ----------------------------------------\n",
      "\n"
     ]
    }
   ],
   "source": [
    "eval_classification_on_indexes_test(500)"
   ]
  },
  {
   "cell_type": "code",
   "execution_count": 82,
   "metadata": {},
   "outputs": [
    {
     "name": "stdout",
     "output_type": "stream",
     "text": [
      " -------- Classification Summary -------------\n",
      "accuracy = 0.95, precision = 0.76, recall = 0.73, F1-score = 0.74 \n",
      " ---------- Confusion Matrix ------------\n",
      "[[1738   49]\n",
      " [  58  155]]\n",
      " ----------------------------------------\n",
      "\n"
     ]
    }
   ],
   "source": [
    "eval_classification_on_indexes_test(2000)"
   ]
  },
  {
   "cell_type": "code",
   "execution_count": null,
   "metadata": {
    "collapsed": true
   },
   "outputs": [],
   "source": []
  },
  {
   "cell_type": "code",
   "execution_count": null,
   "metadata": {
    "collapsed": true
   },
   "outputs": [],
   "source": []
  }
 ],
 "metadata": {
  "kernelspec": {
   "display_name": "Python 3",
   "language": "python",
   "name": "python3"
  },
  "language_info": {
   "codemirror_mode": {
    "name": "ipython",
    "version": 3
   },
   "file_extension": ".py",
   "mimetype": "text/x-python",
   "name": "python",
   "nbconvert_exporter": "python",
   "pygments_lexer": "ipython3",
   "version": "3.5.2"
  }
 },
 "nbformat": 4,
 "nbformat_minor": 2
}
